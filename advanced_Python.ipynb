{
  "nbformat": 4,
  "nbformat_minor": 0,
  "metadata": {
    "colab": {
      "name": "advanced_Python.ipynb",
      "version": "0.3.2",
      "provenance": [],
      "collapsed_sections": [],
      "include_colab_link": true
    },
    "kernelspec": {
      "name": "python3",
      "display_name": "Python 3"
    }
  },
  "cells": [
    {
      "cell_type": "markdown",
      "metadata": {
        "id": "view-in-github",
        "colab_type": "text"
      },
      "source": [
        "<a href=\"https://colab.research.google.com/github/agerk/algorithm_dataStructure/blob/master/advanced_Python.ipynb\" target=\"_parent\"><img src=\"https://colab.research.google.com/assets/colab-badge.svg\" alt=\"Open In Colab\"/></a>"
      ]
    },
    {
      "metadata": {
        "id": "KVitUN9uwur2",
        "colab_type": "text"
      },
      "cell_type": "markdown",
      "source": [
        "### Python Langauge Features\n",
        "\n",
        "### Python truth values\n",
        "\n",
        "Built-in constants that evaluate to false\n",
        "- False Boolean  and None constant that evaluate ot false\n",
        "  - Numeric zero values, 0, 0.0, 0j (complex number)\n",
        "  - Decimal (0), Fraction (0, x)\n",
        "  - Empty sequences/collections: `''`, `()`, `[]`, `{}` \n",
        "  - Empty sets and ranges: `set()`, `range(0)`\n",
        "\n",
        "- custome objects, by default, evalutes true unless they override the Bool  and len functions return a false value\n",
        "  \n",
        "\n",
        "```Python\n",
        "class myClass:\n",
        "    def __bool__(self):\n",
        "        return False\n",
        "        \n",
        "    def __len__(self):\n",
        "        return 0\n",
        "```\n",
        "\n"
      ]
    },
    {
      "metadata": {
        "id": "MDZ_PFejyQ5q",
        "colab_type": "code",
        "outputId": "c304d335-8b47-420a-8778-7a8f713943e6",
        "colab": {
          "base_uri": "https://localhost:8080/",
          "height": 51
        }
      },
      "cell_type": "code",
      "source": [
        "x = []\n",
        "print('bool of x', bool(x))\n",
        "y = {}\n",
        "print('bool of y', bool(y))\n"
      ],
      "execution_count": 0,
      "outputs": [
        {
          "output_type": "stream",
          "text": [
            "bool of x False\n",
            "bool of y False\n"
          ],
          "name": "stdout"
        }
      ]
    },
    {
      "metadata": {
        "id": "LDiPeKKrziX7",
        "colab_type": "text"
      },
      "cell_type": "markdown",
      "source": [
        "### String vs. bytes\n",
        "- String and bytes are not directly intechangeable\n",
        "- Strings contain unicode, bytes are raw 8-bit values"
      ]
    },
    {
      "metadata": {
        "id": "7FXdilM9yjiW",
        "colab_type": "code",
        "outputId": "0d8773a4-6d63-4646-c403-0387e0c43d4a",
        "colab": {
          "base_uri": "https://localhost:8080/",
          "height": 122
        }
      },
      "cell_type": "code",
      "source": [
        "def main():\n",
        "  # define some starting value\n",
        "  b = bytes([0x41, 0x42, 0x43, 0x44])\n",
        "  print(b)\n",
        "  \n",
        "  s = \"This is a string\"\n",
        "  print(s)\n",
        "  \n",
        "  # Combining bytes and string\n",
        "#   print(s+b)    # will throiw type error\n",
        "  s2 = b.decode('utf-8')\n",
        "  print(s+s2)\n",
        "  \n",
        "  # encoding strings to bytes\n",
        "  b2 = s.encode('utf-8')\n",
        "  print(b+b2)\n",
        "  \n",
        "  # encoding string as UTF-32\n",
        "  b3 = s.encode('utf-32')\n",
        "  print('b3: ', b3)\n",
        "  \n",
        "if __name__== \"__main__\":\n",
        "  main()\n"
      ],
      "execution_count": 0,
      "outputs": [
        {
          "output_type": "stream",
          "text": [
            "b'ABCD'\n",
            "This is a string\n",
            "This is a stringABCD\n",
            "b'ABCDThis is a string'\n",
            "b3:  b'\\xff\\xfe\\x00\\x00T\\x00\\x00\\x00h\\x00\\x00\\x00i\\x00\\x00\\x00s\\x00\\x00\\x00 \\x00\\x00\\x00i\\x00\\x00\\x00s\\x00\\x00\\x00 \\x00\\x00\\x00a\\x00\\x00\\x00 \\x00\\x00\\x00s\\x00\\x00\\x00t\\x00\\x00\\x00r\\x00\\x00\\x00i\\x00\\x00\\x00n\\x00\\x00\\x00g\\x00\\x00\\x00'\n"
          ],
          "name": "stdout"
        }
      ]
    },
    {
      "metadata": {
        "id": "tYGq71cj4VSs",
        "colab_type": "text"
      },
      "cell_type": "markdown",
      "source": [
        "### Template strings\n",
        "Simple formatting and readable\n",
        "- has extra security than the `format()` emthod"
      ]
    },
    {
      "metadata": {
        "id": "QBRoPF9o1VwE",
        "colab_type": "code",
        "outputId": "4363cdfe-7287-4e1a-af8a-e0d01a03666c",
        "colab": {
          "base_uri": "https://localhost:8080/",
          "height": 68
        }
      },
      "cell_type": "code",
      "source": [
        "from string import Template\n",
        "\n",
        "def main():\n",
        "  # string formatting\n",
        "  str1 = \"You're watching {0} by {1}\".format(\"Advanced Python\", \"Mr/Ms Xss\")\n",
        "  print(str1)\n",
        "  \n",
        "  # create a template with placeholders\n",
        "  templ = Template(\"You're watching ${title} by ${author}\")\n",
        "  \n",
        "  # use substitute method with keyword arguments\n",
        "  str2 = templ.substitute(title=\"Advanced Python\", author=\"Mr/Ms Xss\")\n",
        "  print(str2)\n",
        "  \n",
        "  # use the substitute method with a dictionary\n",
        "  data = {\n",
        "      \"author\": \"Mr/Ms Xss\",\n",
        "      \"title\": \"Advanced Python\"\n",
        "  }\n",
        "  \n",
        "  str3 = templ.substitute(data)\n",
        "  print(str3)\n",
        "  \n",
        "if __name__ == \"__main__\":\n",
        "  main()\n",
        "  "
      ],
      "execution_count": 0,
      "outputs": [
        {
          "output_type": "stream",
          "text": [
            "You're watching Advanced Python by Mr/Ms Xss\n",
            "You're watching Advanced Python by Mr/Ms Xss\n",
            "You're watching Advanced Python by Mr/Ms Xss\n"
          ],
          "name": "stdout"
        }
      ]
    },
    {
      "metadata": {
        "id": "F-kf0iJ77Zrk",
        "colab_type": "text"
      },
      "cell_type": "markdown",
      "source": [
        "### Built-in functions\n",
        "\n",
        "Sample built-in functions"
      ]
    },
    {
      "metadata": {
        "id": "h6f_TToZ3M6k",
        "colab_type": "code",
        "outputId": "2ba3841f-60fa-4612-cfef-707772aa15fc",
        "colab": {
          "base_uri": "https://localhost:8080/",
          "height": 102
        }
      },
      "cell_type": "code",
      "source": [
        "# use any() and all() functions\n",
        "def main():\n",
        "  list1 = [1, 2, 3, 0, 5, 6]\n",
        "  \n",
        "  # any() will return true if any of the sequence values are Boolean true\n",
        "  print('any: ', any(list1))\n",
        "  \n",
        "  # all() wil return true only if all values are true\n",
        "  print('all: ', all(list1))\n",
        "  \n",
        "  # min and max will return minimum and maximum values in a sequence\n",
        "  print('min: ', min(list1))\n",
        "  print('max: ', max(list1))\n",
        "  # use sum() to sum up all of the values in a sequence\n",
        "  print('sum: ', sum(list1))\n",
        "if __name__ == \"__main__\":\n",
        "  main()"
      ],
      "execution_count": 0,
      "outputs": [
        {
          "output_type": "stream",
          "text": [
            "any:  True\n",
            "all:  False\n",
            "min:  0\n",
            "max:  6\n",
            "sum:  17\n"
          ],
          "name": "stdout"
        }
      ]
    },
    {
      "metadata": {
        "id": "kjW4Oq3WDjfl",
        "colab_type": "code",
        "outputId": "68b17727-b6c8-40a3-f313-d49afe4f025f",
        "colab": {
          "base_uri": "https://localhost:8080/",
          "height": 34
        }
      },
      "cell_type": "code",
      "source": [
        "%%writefile testfile.txt \n",
        "This is line 1\n",
        "This is line 2\n",
        "This is line 3\n",
        "This is line 4\n",
        "This is line 5\n",
        "This is line 6"
      ],
      "execution_count": 0,
      "outputs": [
        {
          "output_type": "stream",
          "text": [
            "Overwriting testfile.txt\n"
          ],
          "name": "stdout"
        }
      ]
    },
    {
      "metadata": {
        "id": "eZT2osd9CKPf",
        "colab_type": "text"
      },
      "cell_type": "markdown",
      "source": [
        "#### Iterating over sequences"
      ]
    },
    {
      "metadata": {
        "id": "7tlVITRBBaie",
        "colab_type": "code",
        "outputId": "5713305c-1ead-49df-c4b5-1b9d771492a3",
        "colab": {
          "base_uri": "https://localhost:8080/",
          "height": 816
        }
      },
      "cell_type": "code",
      "source": [
        "# from itertools import ite\n",
        "def main():\n",
        "  # define a list of days in English and French\n",
        "  days = [\"Sun\", \"Mon\", \"Tue\", \"Wed\", \"THu\", \"Fri\", \"Sat\"]\n",
        "  daysFr = [\"Dim\", \"Lun\", \"Mar\", \"Mer\", \"Jeu\", \"Ven\", \"Sam\"]\n",
        "  \n",
        "  # use iter to create an iterator over a collection\n",
        "  i = iter(days)\n",
        "  print(next(i))\n",
        "  print(next(i))\n",
        "  print(next(i))\n",
        "  print()\n",
        "  \n",
        "  # iterate using a function and sentinel\n",
        "  with open('testfile.txt' , 'r') as fp:\n",
        "    for line in iter(fp.readline, ''):\n",
        "      print(line)\n",
        "    \n",
        "  print()\n",
        "  # use regular interaction over the days\n",
        "  for m in range(len(days)):\n",
        "    print(m+1, days[m]) \n",
        "  print()\n",
        "  # using enumerate reduce code and provides a counter\n",
        "  # it simplify the loop and make the code readable\n",
        "  for m, day in enumerate(days, start=1):\n",
        "      print(m, day)\n",
        "  print() \n",
        "  \n",
        "  # use zip to combine sequences: iterating over days and daysFr\n",
        "  for day in zip(days, daysFr):\n",
        "    print(day)\n",
        "  print()\n",
        "  \n",
        "  # combining zip with enumerate\n",
        "  for m, day in enumerate(zip(days, daysFr), start=1):\n",
        "    print(m, day[0], \"=\", day[1], \"in French\")\n",
        "    \n",
        "    \n",
        "if __name__==\"__main__\":\n",
        "  main()"
      ],
      "execution_count": 0,
      "outputs": [
        {
          "output_type": "stream",
          "text": [
            "Sun\n",
            "Mon\n",
            "Tue\n",
            "\n",
            "This is line 1\n",
            "\n",
            "This is line 2\n",
            "\n",
            "This is line 3\n",
            "\n",
            "This is line 4\n",
            "\n",
            "This is line 5\n",
            "\n",
            "This is line 6\n",
            "\n",
            "1 Sun\n",
            "2 Mon\n",
            "3 Tue\n",
            "4 Wed\n",
            "5 THu\n",
            "6 Fri\n",
            "7 Sat\n",
            "\n",
            "1 Sun\n",
            "2 Mon\n",
            "3 Tue\n",
            "4 Wed\n",
            "5 THu\n",
            "6 Fri\n",
            "7 Sat\n",
            "\n",
            "('Sun', 'Dim')\n",
            "('Mon', 'Lun')\n",
            "('Tue', 'Mar')\n",
            "('Wed', 'Mer')\n",
            "('THu', 'Jeu')\n",
            "('Fri', 'Ven')\n",
            "('Sat', 'Sam')\n",
            "\n",
            "1 Sun = Dim in French\n",
            "2 Mon = Lun in French\n",
            "3 Tue = Mar in French\n",
            "4 Wed = Mer in French\n",
            "5 THu = Jeu in French\n",
            "6 Fri = Ven in French\n",
            "7 Sat = Sam in French\n"
          ],
          "name": "stdout"
        }
      ]
    },
    {
      "metadata": {
        "id": "V5k552h_H8AL",
        "colab_type": "text"
      },
      "cell_type": "markdown",
      "source": [
        "#### Transforms\n",
        "\n",
        "Functions like `sorted`, `filter`  , `map`  transform data"
      ]
    },
    {
      "metadata": {
        "id": "lMdpWDUTFJwv",
        "colab_type": "code",
        "colab": {}
      },
      "cell_type": "code",
      "source": [
        "def filterFunc(x):\n",
        "  \"\"\"\n",
        "  Return Boolean False if x is divisible by 2, False it it odd number\n",
        "\n",
        "  \"\"\"\n",
        "  if x%2 == 0:\n",
        "    return False\n",
        "  return True "
      ],
      "execution_count": 0,
      "outputs": []
    },
    {
      "metadata": {
        "id": "T3GwrINYIClJ",
        "colab_type": "code",
        "colab": {}
      },
      "cell_type": "code",
      "source": [
        "def filterFunc2(x):\n",
        "  if x.isupper():\n",
        "    return False\n",
        "  return True"
      ],
      "execution_count": 0,
      "outputs": []
    },
    {
      "metadata": {
        "id": "6XzXwH8uICyg",
        "colab_type": "code",
        "colab": {}
      },
      "cell_type": "code",
      "source": [
        "def squareFunc(x):\n",
        "  return x**2"
      ],
      "execution_count": 0,
      "outputs": []
    },
    {
      "metadata": {
        "id": "0zsdi0ZJJOam",
        "colab_type": "code",
        "colab": {}
      },
      "cell_type": "code",
      "source": [
        "def toGrade(x):\n",
        "  if (x >= 90):\n",
        "    return \"A\"\n",
        "  elif (x >= 80 and x < 90):\n",
        "    return \"B\"\n",
        "  elif (x >= 70 and x < 80):\n",
        "    return \"C\"\n",
        "  elif (x >= 65 and x < 70):\n",
        "    return \"D\"\n",
        "  \n",
        "  return \"F\""
      ],
      "execution_count": 0,
      "outputs": []
    },
    {
      "metadata": {
        "id": "YlYyfajWJOe7",
        "colab_type": "code",
        "outputId": "b0feb422-f618-425e-a096-12fc87419a33",
        "colab": {
          "base_uri": "https://localhost:8080/",
          "height": 85
        }
      },
      "cell_type": "code",
      "source": [
        "def main():\n",
        "  nums = (1, 8, 4, 5, 13, 36, 381, 410, 58, 47)\n",
        "  chars = 'abcDeFGHiJklmnoP'\n",
        "  grades = (81, 89, 78, 61, 66, 99, 74)\n",
        "  \n",
        "  # usse built-in filter to remove itemd from a list\n",
        "  odds = list(filter(filterFunc, nums))\n",
        "  print('odds: ', odds)\n",
        "  \n",
        "  # use filter on non-numeric sequence\n",
        "  lowers = list(filter(filterFunc2, chars))\n",
        "  print('lowers lettters: ', lowers)\n",
        "  \n",
        "  # use map to create a new sequence of values\n",
        "  squares = list(map(squareFunc, nums))\n",
        "  print('Squares: ', squares)\n",
        "  \n",
        "  # use sorted and map to change numners to grades\n",
        "  grades = sorted(grades)\n",
        "  letter_grades = list(map(toGrade, grades))\n",
        "  print('Letter grades: ', letter_grades)\n",
        "  \n",
        "if __name__ == \"__main__\":\n",
        "  main()"
      ],
      "execution_count": 0,
      "outputs": [
        {
          "output_type": "stream",
          "text": [
            "odds:  [1, 5, 13, 381, 47]\n",
            "lowers lettters:  ['a', 'b', 'c', 'e', 'i', 'k', 'l', 'm', 'n', 'o']\n",
            "Squares:  [1, 64, 16, 25, 169, 1296, 145161, 168100, 3364, 2209]\n",
            "Letter grades:  ['F', 'D', 'C', 'C', 'B', 'B', 'A']\n"
          ],
          "name": "stdout"
        }
      ]
    },
    {
      "metadata": {
        "id": "jZA2w1mQtOQq",
        "colab_type": "text"
      },
      "cell_type": "markdown",
      "source": [
        "### `itertools`: functions creating iterators for efficient looping"
      ]
    },
    {
      "metadata": {
        "id": "qDpFVgJEJOiO",
        "colab_type": "code",
        "outputId": "7e3979c0-7f81-48d6-9165-7f160185377b",
        "colab": {
          "base_uri": "https://localhost:8080/",
          "height": 238
        }
      },
      "cell_type": "code",
      "source": [
        "import itertools\n",
        "\n",
        "def testFunc(x):\n",
        "  return x < 40\n",
        "\n",
        "def main():\n",
        "  # cycle infinite iterator can be used to cycle over a collection\n",
        "  seq1 = [\"Joe\", \"John\", \"Mike\"]\n",
        "  cycle = itertools.cycle(seq1)\n",
        "  print(next(cycle))\n",
        "  print(next(cycle))\n",
        "  print(next(cycle))\n",
        "  print(next(cycle))\n",
        "  print()\n",
        "  \n",
        "  # use count to create a simple countter\n",
        "  count1 = itertools.count(100, 10)\n",
        "  print(count1)\n",
        "  \n",
        "  # creates an iterator that accumulate values\n",
        "  vals = [10, 20, 30, 40, 50, 30]\n",
        "  acc = itertools.accumulate(vals)    # defualts to addition\n",
        "  print(list(acc))\n",
        "  \n",
        "  # change default \n",
        "  acc2 = itertools.accumulate(vals, max)    # defualts to addition\n",
        "  print(list(acc2))\n",
        "  \n",
        "  # use chain to connect sequences together\n",
        "  x = itertools.chain(\"ABCD\", \"1234\")\n",
        "  print()\n",
        "  print(list(x))\n",
        "  \n",
        "  # deropwhile and takewhile will return values untill\n",
        "  print()\n",
        "  print(list(itertools.dropwhile(testFunc, vals)))  \n",
        "  print(list(itertools.takewhile(testFunc, vals)))\n",
        "  \n",
        "if __name__ == \"__main__\":\n",
        "  main()"
      ],
      "execution_count": 0,
      "outputs": [
        {
          "output_type": "stream",
          "text": [
            "Joe\n",
            "John\n",
            "Mike\n",
            "Joe\n",
            "\n",
            "count(100, 10)\n",
            "[10, 30, 60, 100, 150, 180]\n",
            "[10, 20, 30, 40, 50, 50]\n",
            "\n",
            "['A', 'B', 'C', 'D', '1', '2', '3', '4']\n",
            "\n",
            "[40, 50, 30]\n",
            "[10, 20, 30]\n"
          ],
          "name": "stdout"
        }
      ]
    },
    {
      "metadata": {
        "id": "VvTqF_YFxSVU",
        "colab_type": "text"
      },
      "cell_type": "markdown",
      "source": [
        "### Functions\n",
        "\n",
        "#### Docstring best practice\n",
        "- Enclose docstring in triple quotes\n",
        "- First line should be summary sentence of functionality\n",
        "- Modules: list important classes, functions, exceptions\n",
        "- Classes: list important methods\n",
        "- Functions: list parameters and explain each, one per line if there's a return value, then list it; otherwise omit\n",
        "    - if the function raises exceptions, mention those\n",
        "    \n",
        "Check PEP 257 for more details"
      ]
    },
    {
      "metadata": {
        "id": "S0QiKMZzJOk2",
        "colab_type": "code",
        "colab": {}
      },
      "cell_type": "code",
      "source": [
        "import collections"
      ],
      "execution_count": 0,
      "outputs": []
    },
    {
      "metadata": {
        "id": "xybeVYKNJOnq",
        "colab_type": "code",
        "outputId": "2bf19702-05c2-4474-8d02-5c2c0c3ce24e",
        "colab": {
          "base_uri": "https://localhost:8080/",
          "height": 272
        }
      },
      "cell_type": "code",
      "source": [
        "print(collections.__doc__)"
      ],
      "execution_count": 0,
      "outputs": [
        {
          "output_type": "stream",
          "text": [
            "This module implements specialized container datatypes providing\n",
            "alternatives to Python's general purpose built-in containers, dict,\n",
            "list, set, and tuple.\n",
            "\n",
            "* namedtuple   factory function for creating tuple subclasses with named fields\n",
            "* deque        list-like container with fast appends and pops on either end\n",
            "* ChainMap     dict-like class for creating a single view of multiple mappings\n",
            "* Counter      dict subclass for counting hashable objects\n",
            "* OrderedDict  dict subclass that remembers the order entries were added\n",
            "* defaultdict  dict subclass that calls a factory function to supply missing values\n",
            "* UserDict     wrapper around dictionary objects for easier dict subclassing\n",
            "* UserList     wrapper around list objects for easier list subclassing\n",
            "* UserString   wrapper around string objects for easier string subclassing\n",
            "\n",
            "\n"
          ],
          "name": "stdout"
        }
      ]
    },
    {
      "metadata": {
        "id": "4U-sGeYM0H9U",
        "colab_type": "code",
        "outputId": "1e64a76f-4971-45ca-aaf3-155b0c370b68",
        "colab": {
          "base_uri": "https://localhost:8080/",
          "height": 136
        }
      },
      "cell_type": "code",
      "source": [
        "def myFunction(arg1, arg2=None):\n",
        "  \"\"\"myFunction(arg1, arg2=None) --> Doesn't really do anythin, just prints.\n",
        "  \n",
        "  Parameters:\n",
        "  arg1: the first argument\n",
        "  arg2: second argument. Defaults to None\n",
        "  \n",
        "  \"\"\"\n",
        "  print(arg1, arg2)\n",
        "  \n",
        "  \n",
        "def main():\n",
        "  print(myFunction.__doc__)\n",
        "  \n",
        "\n",
        "if __name__ == \"__main__\":\n",
        "  main()"
      ],
      "execution_count": 0,
      "outputs": [
        {
          "output_type": "stream",
          "text": [
            "myFunction(arg1, arg2=None) --> Doesn't really do anythin, just prints.\n",
            "  \n",
            "  Parameters:\n",
            "  arg1: the first argument\n",
            "  arg2: second argument. Defaults to None\n",
            "  \n",
            "  \n"
          ],
          "name": "stdout"
        }
      ]
    },
    {
      "metadata": {
        "id": "NT_WVFhI2RA_",
        "colab_type": "text"
      },
      "cell_type": "markdown",
      "source": [
        "### Using variable arguments\n",
        "Define functions that can take variable number of parameters\n",
        "\n",
        "\n",
        "```\n",
        "def addition(*numbers)\n",
        "def log_message(msgType, msg, *params)\n",
        "```\n",
        "\n"
      ]
    },
    {
      "metadata": {
        "id": "iGGSc-mo2Nln",
        "colab_type": "code",
        "outputId": "4bfb8085-00ab-4543-f614-353ad12f80cd",
        "colab": {
          "base_uri": "https://localhost:8080/",
          "height": 68
        }
      },
      "cell_type": "code",
      "source": [
        "# define a function that takes variable arguments\n",
        "def addition(*args):\n",
        "  result = 0\n",
        "  for arg in args:\n",
        "    result += arg\n",
        "  return result\n",
        "\n",
        "def main():\n",
        "  # pass different argument\n",
        "  print(addition(5, 10, 15, 20))\n",
        "  print(addition(1, 2, 3))\n",
        "  \n",
        "  # passing an existing list\n",
        "  myNums = [5, 10, 15, 20] \n",
        "  print(addition(*myNums))    # using list restrict the flexibility of func\n",
        "  \n",
        "if __name__ == \"__main__\":\n",
        "  main()"
      ],
      "execution_count": 0,
      "outputs": [
        {
          "output_type": "stream",
          "text": [
            "50\n",
            "6\n",
            "50\n"
          ],
          "name": "stdout"
        }
      ]
    },
    {
      "metadata": {
        "id": "a8kHdp5-9CtN",
        "colab_type": "text"
      },
      "cell_type": "markdown",
      "source": [
        "### Lambda function\n",
        "- small, anonymous functions\n",
        "- can be passed s arguments where you need a function\n",
        "- typically used in place just when needed\n",
        "\n",
        "\n",
        "```\n",
        "lambda (paramenets) : (expression)\n",
        "```\n",
        "\n"
      ]
    },
    {
      "metadata": {
        "id": "hSjtooKG8-Ab",
        "colab_type": "code",
        "outputId": "65b90603-47c7-4f15-a354-6d242fb90322",
        "colab": {
          "base_uri": "https://localhost:8080/",
          "height": 85
        }
      },
      "cell_type": "code",
      "source": [
        "def celsisusToFahrenheite(temp):\n",
        "  return (temp*9/5) + 32\n",
        "\n",
        "def fahrenheitToCelsisus(temp):\n",
        "  return (temp-32)*5/9\n",
        "\n",
        "def main():\n",
        "  ctemps = [0, 12, 34, 100]\n",
        "  ftemps = [32, 65, 100, 212]\n",
        "  \n",
        "  # use regular functions to conver temps\n",
        "  print(\"To celsisus: \", list(map(celsisusToFahrenheite, ctemps)))\n",
        "  print(\"To fahrenheit: \",list(map(fahrenheitToCelsisus, ftemps)))\n",
        "  \n",
        "  # use lambdas to accomplish the same thing\n",
        "  print(\"To celsisus_lambda: \", list(map((lambda t: (t*9/5) + 32), ctemps)))\n",
        "  print(\"To fahrenheit_lambda: \",list(map((lambda f: (f-32)*5/9), ftemps)))\n",
        " \n",
        "  \n",
        "if __name__ == \"__main__\":\n",
        "  main()"
      ],
      "execution_count": 0,
      "outputs": [
        {
          "output_type": "stream",
          "text": [
            "To celsisus:  [32.0, 53.6, 93.2, 212.0]\n",
            "To fahrenheit:  [0.0, 18.333333333333332, 37.77777777777778, 100.0]\n",
            "To celsisus_lambda:  [32.0, 53.6, 93.2, 212.0]\n",
            "To fahrenheit_lambda:  [0.0, 18.333333333333332, 37.77777777777778, 100.0]\n"
          ],
          "name": "stdout"
        }
      ]
    },
    {
      "metadata": {
        "id": "MBwh5vo8AZr1",
        "colab_type": "text"
      },
      "cell_type": "markdown",
      "source": [
        "### Using keyword-only arguments\n",
        "\n",
        "Kyeword-only argument provide better readability\n",
        "\n",
        "```\n",
        "def myFunc(arg1, arg2, arg3=\"foo\")\n",
        "myFunc(1, 2, arg3=\"bar\")\n",
        "```\n",
        "- Python 3 provides a way to make the caller function aware of the significance of the parameter and other who read the code. \n",
        "  - This is accomplished by separating the positional arguments with a single asterisk character followed by parameter that are keyword only\n",
        "  \n",
        "  \n",
        "\n",
        "```\n",
        "def criticalFunc(arg1, suppressExc=False)\n",
        "\n",
        "  become\n",
        "\n",
        "def criticalFunc(arg1, *, suppressExc=False)\n",
        "```\n",
        "\n",
        "\n",
        "\n"
      ]
    },
    {
      "metadata": {
        "id": "00qwFm0NCIPC",
        "colab_type": "code",
        "outputId": "c57b2a96-27d5-4d07-eb2c-5bb99de521a2",
        "colab": {
          "base_uri": "https://localhost:8080/",
          "height": 34
        }
      },
      "cell_type": "code",
      "source": [
        "def myFunc(arg1, arg2, *, suppressException=False):\n",
        "  return print(myFunc)\n",
        "\n",
        "def main():\n",
        "  # call myFunc without the keyword\n",
        "#   myFunc(1, 2, True)    # will throw error without explicitly using the keyword\n",
        "  myFunc(1, 2, suppressException=True)\n",
        "\n",
        "  \n",
        "if __name__ ==\"__main__\":\n",
        "  main()"
      ],
      "execution_count": 0,
      "outputs": [
        {
          "output_type": "stream",
          "text": [
            "<function myFunc at 0x7f78aab0f730>\n"
          ],
          "name": "stdout"
        }
      ]
    },
    {
      "metadata": {
        "id": "PW3YtfjWFRYS",
        "colab_type": "text"
      },
      "cell_type": "markdown",
      "source": [
        "### Advanced collections\n"
      ]
    },
    {
      "metadata": {
        "id": "r_InAGjoCgrZ",
        "colab_type": "code",
        "outputId": "8cfc2aca-381f-4241-ab74-6a15165cf34b",
        "colab": {
          "base_uri": "https://localhost:8080/",
          "height": 272
        }
      },
      "cell_type": "code",
      "source": [
        "print(collections.__doc__)"
      ],
      "execution_count": 0,
      "outputs": [
        {
          "output_type": "stream",
          "text": [
            "This module implements specialized container datatypes providing\n",
            "alternatives to Python's general purpose built-in containers, dict,\n",
            "list, set, and tuple.\n",
            "\n",
            "* namedtuple   factory function for creating tuple subclasses with named fields\n",
            "* deque        list-like container with fast appends and pops on either end\n",
            "* ChainMap     dict-like class for creating a single view of multiple mappings\n",
            "* Counter      dict subclass for counting hashable objects\n",
            "* OrderedDict  dict subclass that remembers the order entries were added\n",
            "* defaultdict  dict subclass that calls a factory function to supply missing values\n",
            "* UserDict     wrapper around dictionary objects for easier dict subclassing\n",
            "* UserList     wrapper around list objects for easier list subclassing\n",
            "* UserString   wrapper around string objects for easier string subclassing\n",
            "\n",
            "\n"
          ],
          "name": "stdout"
        }
      ]
    },
    {
      "metadata": {
        "id": "KMgJa8D6Jrp_",
        "colab_type": "text"
      },
      "cell_type": "markdown",
      "source": [
        "### Using namedtuple\n",
        "\n",
        "- They assigns meaning to each of the values along the tuple itself\n",
        "-  They helpful function for working with tuples"
      ]
    },
    {
      "metadata": {
        "id": "oSVWh8URCgur",
        "colab_type": "code",
        "outputId": "cdb79333-78cc-409a-d931-8715cd1e8722",
        "colab": {
          "base_uri": "https://localhost:8080/",
          "height": 68
        }
      },
      "cell_type": "code",
      "source": [
        "import collections\n",
        "\n",
        "def main():\n",
        "  # create a Point namedtuple\n",
        "  Point = collections.namedtuple(\"Point\", \"x y\")\n",
        "  p1 = Point(10, 20)\n",
        "  p2 = Point(10, 20)\n",
        "  print('Point objects: ', p1, p2)\n",
        "  \n",
        "  # now we can refer to the points by name\n",
        "  print(\"p1 and p2 xs:\", p1.x, p2.x)\n",
        "  \n",
        "  # use_replace to create a new instance\n",
        "  p1 = p1._replace(x=100)\n",
        "  print('p1 new point', p1.x)\n",
        "  \n",
        "  \n",
        "if __name__ == \"__main__\":\n",
        "  main()"
      ],
      "execution_count": 0,
      "outputs": [
        {
          "output_type": "stream",
          "text": [
            "Point objects:  Point(x=10, y=20) Point(x=10, y=20)\n",
            "p1 and p2 xs: 10 10\n",
            "p1 new point 100\n"
          ],
          "name": "stdout"
        }
      ]
    },
    {
      "metadata": {
        "id": "WtXmG_vBL7t3",
        "colab_type": "text"
      },
      "cell_type": "markdown",
      "source": [
        "### defaultdict\n"
      ]
    },
    {
      "metadata": {
        "id": "eD2ipx-wCg5N",
        "colab_type": "code",
        "outputId": "748966be-c554-4ac2-920c-d3c2be04db66",
        "colab": {
          "base_uri": "https://localhost:8080/",
          "height": 204
        }
      },
      "cell_type": "code",
      "source": [
        "from collections import defaultdict\n",
        "\n",
        "def main():\n",
        "  # define a list of items that we want to count\n",
        "  fruits = ['apple', 'pear', 'orange', 'banana',\n",
        "           'apple', 'grape', 'banana', 'banana']\n",
        "  \n",
        "  # using a dict to count ecah element\n",
        "  fruitCounter = {}\n",
        "  \n",
        "  \n",
        "  # count the elements in the list\n",
        "  # Option 1:\n",
        "#   for fruit in fruits:\n",
        "#     fruitCountr[fruit] += 1    # KeyError exception because fruit is not added\n",
        "#                                # in the key\n",
        "  \n",
        "  # adding conditions to cjeck if key is available\n",
        "  for fruit in fruits:\n",
        "    if fruit in fruitCounter.keys():      \n",
        "        fruitCounter[fruit] += 1 \n",
        "    else:\n",
        "        fruitCounter[fruit] = 1    # executed only once per key \n",
        "  \n",
        "  \n",
        "  for (k, v) in fruitCounter.items():\n",
        "    print(k + \":\" + str(v))\n",
        "  print()\n",
        "  \n",
        "  # Option 2: using defaultfdict\n",
        "  fruitCounter_d = defaultdict(int)    # int as a default factory\n",
        "  \n",
        "  for fruit in fruits:\n",
        "    fruitCounter_d[fruit] += 1 \n",
        "   \n",
        "  # print the result\n",
        "  for (k, v) in fruitCounter_d.items():\n",
        "    print(\"from defaultdict: \", k + \":\" + str(v))\n",
        "   \n",
        "  \n",
        "if __name__ == \"__main__\":\n",
        "  main()\n"
      ],
      "execution_count": 0,
      "outputs": [
        {
          "output_type": "stream",
          "text": [
            "apple:2\n",
            "pear:1\n",
            "orange:1\n",
            "banana:3\n",
            "grape:1\n",
            "\n",
            "from defaultdict:  apple:2\n",
            "from defaultdict:  pear:1\n",
            "from defaultdict:  orange:1\n",
            "from defaultdict:  banana:3\n",
            "from defaultdict:  grape:1\n"
          ],
          "name": "stdout"
        }
      ]
    },
    {
      "metadata": {
        "id": "z9zGp8yGV1qP",
        "colab_type": "text"
      },
      "cell_type": "markdown",
      "source": [
        "### Counters\n",
        "- dictionary subclass for counting hasable objects\n",
        "- has additional items to for counting"
      ]
    },
    {
      "metadata": {
        "id": "bdlM8igNWD9v",
        "colab_type": "code",
        "outputId": "de941a98-c1ec-4307-a2c4-1fc13ea35d1f",
        "colab": {
          "base_uri": "https://localhost:8080/",
          "height": 119
        }
      },
      "cell_type": "code",
      "source": [
        "from collections import Counter\n",
        "\n",
        "def main():\n",
        "  # define a list of items that we want to count\n",
        "  class1 = ['Bob', 'Becky', 'Chad', 'Darcy', 'Frank', 'Hannah',\n",
        "           'Kevin', 'James', 'James', 'Melanie', 'Penny', 'Steve']\n",
        "  \n",
        "  class2 = ['Billy', 'Barry', 'Cindy', 'Debbie', 'Frank', 'Gabby',\n",
        "           'Kelly', 'James', 'Joe', 'Sam', 'Tara', 'Ziggy']\n",
        "    \n",
        "\n",
        "  # create counter for class1 and class2 \n",
        "  c1 = Counter(class1)\n",
        "  c2 = Counter(class2)\n",
        "  \n",
        "  # how many student in class1 named James\n",
        "  print(c1[\"James\"])\n",
        "  \n",
        "  # how manu students are in  class1\n",
        "  print(sum(c1.values()), \"students in class1\")\n",
        "  \n",
        "  # combine the two classes tohave thier values added to each other\n",
        "  c1.update(c2)\n",
        "  print(sum(c1.values()))\n",
        "  \n",
        "  # what is the most in the two clasees\n",
        "  print(c1.most_common(3), \"is most common in class1\")\n",
        "  \n",
        "  \n",
        "  # separate the class again\n",
        "  c1.subtract(c2)\n",
        "  print(c1.most_common(3), \"is most common in class1\")\n",
        "  \n",
        "  # what's common between the two classes\n",
        "  print(c1 & c2, \"are common in calss1 and class2\")\n",
        "\n",
        "    \n",
        "if __name__ == \"__main__\":\n",
        "  main()\n"
      ],
      "execution_count": 0,
      "outputs": [
        {
          "output_type": "stream",
          "text": [
            "2\n",
            "12 students in class1\n",
            "24\n",
            "[('James', 3), ('Frank', 2), ('Bob', 1)] is most common in class1\n",
            "[('James', 2), ('Bob', 1), ('Becky', 1)] is most common in class1\n",
            "Counter({'Frank': 1, 'James': 1}) are common in calss1 and class2\n"
          ],
          "name": "stdout"
        }
      ]
    },
    {
      "metadata": {
        "id": "O7Kb76VMdUlE",
        "colab_type": "text"
      },
      "cell_type": "markdown",
      "source": [
        "### OrderedDict\n",
        "- it keep insertion order of items"
      ]
    },
    {
      "metadata": {
        "id": "VU8O2htHgKb_",
        "colab_type": "code",
        "outputId": "ca9b42e1-d7ca-4a41-8cf5-c76d8e844a47",
        "colab": {
          "base_uri": "https://localhost:8080/",
          "height": 207
        }
      },
      "cell_type": "code",
      "source": [
        "from collections import OrderedDict\n",
        "\n",
        "def main():\n",
        "  # list of sport teams with wins and losses\n",
        "  sportTeams = [(\"Royals\", (18, 12)), (\"Royals\", (18, 12)),\n",
        "              (\"Cardinal\", (20, 10)), (\"Dragons\", (22, 8)),\n",
        "              (\"Kings\", (15, 15)), (\"Chargers\", (20, 10)),\n",
        "              (\"Jests\", (16, 14)), (\"Warriors\", (25, 5))]\n",
        "  \n",
        "  # sort the teams by number or wins\n",
        "  sortedTeams = sorted(sportTeams, key=lambda x:x[1][0], reverse=True)\n",
        "  print(sortedTeams)\n",
        "  \n",
        "  # create an ordered dic of teams\n",
        "  teams = OrderedDict(sortedTeams)\n",
        "  print(teams.items())\n",
        "  \n",
        "  # use popitem to remove the top item\n",
        "  tm, wl = teams.popitem(False)\n",
        "  print('Top team: {}, win_loss: {}'.format(tm, wl))\n",
        "  \n",
        "  # what are the next top 4 teams\n",
        "  for i, team in enumerate(teams, start=1):\n",
        "    print(i, team)\n",
        "    if i == 4: break\n",
        "    \n",
        "  # test for equality: depends on the order of the values\n",
        "  a = OrderedDict({\"a\": 1, \"b\":2, \"c\": 3})\n",
        "  b = OrderedDict({\"a\": 1, \"b\":2, \"c\": 3})\n",
        "  b2 = OrderedDict({\"a\": 1, \"c\": 3, \"b\":2})\n",
        "  b3 = {\"a\": 1, \"c\": 3, \"b\":2}    # regular dict\n",
        "  print(\"Equality test: \", a == b)\n",
        "  print(\"Equality test: \", a == b2)\n",
        "  print(\"Equality test: \", b2 == b3)\n",
        "  \n",
        "  \n",
        "if __name__==\"__main__\":\n",
        "  main()\n",
        "  "
      ],
      "execution_count": 0,
      "outputs": [
        {
          "output_type": "stream",
          "text": [
            "[('Warriors', (25, 5)), ('Dragons', (22, 8)), ('Cardinal', (20, 10)), ('Chargers', (20, 10)), ('Royals', (18, 12)), ('Royals', (18, 12)), ('Jests', (16, 14)), ('Kings', (15, 15))]\n",
            "odict_items([('Warriors', (25, 5)), ('Dragons', (22, 8)), ('Cardinal', (20, 10)), ('Chargers', (20, 10)), ('Royals', (18, 12)), ('Jests', (16, 14)), ('Kings', (15, 15))])\n",
            "Top team: Warriors, win_loss: (25, 5)\n",
            "1 Dragons\n",
            "2 Cardinal\n",
            "3 Chargers\n",
            "4 Royals\n",
            "Equality test:  True\n",
            "Equality test:  False\n",
            "Equality test:  True\n"
          ],
          "name": "stdout"
        }
      ]
    },
    {
      "metadata": {
        "id": "PF3VPD2VnbHU",
        "colab_type": "text"
      },
      "cell_type": "markdown",
      "source": [
        "### Using Deque\n",
        "\n",
        "Double ended queue\n",
        "- Hybrid between stak and queue\n",
        "- memory effificient to access element"
      ]
    },
    {
      "metadata": {
        "id": "3tW8CcuOnmmQ",
        "colab_type": "code",
        "outputId": "d987cbf3-1a96-4179-9042-86b0467cb881",
        "colab": {
          "base_uri": "https://localhost:8080/",
          "height": 122
        }
      },
      "cell_type": "code",
      "source": [
        "from collections import deque\n",
        "import string\n",
        "\n",
        "\n",
        "def main():\n",
        "  \n",
        "  # initialize a deque with lowwercase letters\n",
        "  d = deque(string.ascii_lowercase)\n",
        "  \n",
        "  # deques support the len() function\n",
        "  print(\"Item count: \", str(len(d)))\n",
        "  \n",
        "  # deque can be iterated over\n",
        "  for elem in d:\n",
        "    print(elem.upper(), end=\",\")\n",
        "    \n",
        "  # manipulate items from either end\n",
        "  d.pop()\n",
        "  d.popleft()\n",
        "  d.append(2)\n",
        "  d.appendleft(1)\n",
        "  print()\n",
        "  print(d)\n",
        "  \n",
        "  # rotate the deque\n",
        "  print(d)\n",
        "  d.rotate(10)\n",
        "  print(d)\n",
        "\n",
        "  \n",
        "if __name__==\"__main__\":\n",
        "  main()"
      ],
      "execution_count": 0,
      "outputs": [
        {
          "output_type": "stream",
          "text": [
            "Item count:  26\n",
            "A,B,C,D,E,F,G,H,I,J,K,L,M,N,O,P,Q,R,S,T,U,V,W,X,Y,Z,\n",
            "deque([1, 'b', 'c', 'd', 'e', 'f', 'g', 'h', 'i', 'j', 'k', 'l', 'm', 'n', 'o', 'p', 'q', 'r', 's', 't', 'u', 'v', 'w', 'x', 'y', 2])\n",
            "deque([1, 'b', 'c', 'd', 'e', 'f', 'g', 'h', 'i', 'j', 'k', 'l', 'm', 'n', 'o', 'p', 'q', 'r', 's', 't', 'u', 'v', 'w', 'x', 'y', 2])\n",
            "deque(['q', 'r', 's', 't', 'u', 'v', 'w', 'x', 'y', 2, 1, 'b', 'c', 'd', 'e', 'f', 'g', 'h', 'i', 'j', 'k', 'l', 'm', 'n', 'o', 'p'])\n"
          ],
          "name": "stdout"
        }
      ]
    },
    {
      "metadata": {
        "id": "XrPu-R8_s2Gf",
        "colab_type": "text"
      },
      "cell_type": "markdown",
      "source": [
        "## Advanced Features of Python Classes\n",
        "\n",
        "- Create enumerations\n",
        "- Customize string and byte representations of object\n",
        "- Define computed and default attributes\n",
        "- Control how objcets are logically compared to each other\n",
        "- Give obects numeric-like behavior (additon, subtraction, etc.)\n",
        "\n",
        "### Enumerations\n",
        "- Can be used as hash values\n",
        "- Defined using the class syntax"
      ]
    },
    {
      "metadata": {
        "id": "11CvJ5oYgKns",
        "colab_type": "code",
        "outputId": "a7bd5b71-73db-4424-a76b-e7262c32a5ea",
        "colab": {
          "base_uri": "https://localhost:8080/",
          "height": 119
        }
      },
      "cell_type": "code",
      "source": [
        "from enum import Enum, unique, auto\n",
        "\n",
        "@unique    # to prevent duplicate values\n",
        "class Fruit(Enum):\n",
        "  APPLE = 1\n",
        "  BANANA = 2\n",
        "  ORANGE = 3\n",
        "  TOMATO = 4\n",
        "#   CARROT = 1\n",
        "  # auto assign value to enums automatically\n",
        "  PEAR = auto()\n",
        "#   AAPLE = 6\n",
        "  \n",
        "  \n",
        "def main():\n",
        "\n",
        "  # enums have human-readable values nad types\n",
        "  # no duplicate key\n",
        "  print(Fruit.APPLE)\n",
        "  print(type(Fruit.APPLE))\n",
        "  print(repr(Fruit.APPLE))\n",
        "  \n",
        "  # print the auto-generated value\n",
        "  print('PEAR enum: ', Fruit.PEAR.value)\n",
        "  \n",
        "  # enums have name and value properties\n",
        "  print(Fruit.APPLE.name, Fruit.APPLE.value)\n",
        "  \n",
        "  # enums are hashable - can be used as keys\n",
        "  myFruit = {}\n",
        "  myFruit[Fruit.BANANA] = \"Come Mr. Tally-man\"\n",
        "  print(myFruit[Fruit.BANANA])\n",
        "  \n",
        "  \n",
        "if __name__==\"__main__\":\n",
        "  main()"
      ],
      "execution_count": 0,
      "outputs": [
        {
          "output_type": "stream",
          "text": [
            "Fruit.APPLE\n",
            "<enum 'Fruit'>\n",
            "<Fruit.APPLE: 1>\n",
            "PEAR enum:  5\n",
            "APPLE 1\n",
            "Come Mr. Tally-man\n"
          ],
          "name": "stdout"
        }
      ]
    },
    {
      "metadata": {
        "id": "qprvPEr--XLN",
        "colab_type": "text"
      },
      "cell_type": "markdown",
      "source": [
        "### Class String Functions\n"
      ]
    },
    {
      "metadata": {
        "id": "yjZjzs4MDSD3",
        "colab_type": "code",
        "outputId": "b9919a9d-95ca-48cd-fed3-a3ff50c8dc67",
        "colab": {
          "base_uri": "https://localhost:8080/",
          "height": 85
        }
      },
      "cell_type": "code",
      "source": [
        "class Person():\n",
        "  def __init__(self):\n",
        "    self.fname = \"Joe\"\n",
        "    self.lname = \"Marini\"\n",
        "    self.age = 25\n",
        "    \n",
        "  # use __repr__ to create a string useful for debugging\n",
        "  def __repr__(self):\n",
        "    return \"<Preson Class - fname: {0}, lname:{1}, age:{2}\".format(\n",
        "        self.fname, self.lname, self.age)\n",
        "  \n",
        "  # use str for a more human-readable string\n",
        "  def __str__(self):\n",
        "    return \"Person ({0}, {1}, is {2})\".format(\n",
        "    self.fname, self.lname, self.age)\n",
        "  \n",
        "  # override bytes function\n",
        "  def __bytes__(self):\n",
        "    val = \"Person:{0}:{1}:{2}\".format(\n",
        "    self.fname, self.lname, self.age)\n",
        "    return bytes(val.encode('UTF-8'))\n",
        "  \n",
        "  \n",
        "def main():\n",
        "  # create a new Person object\n",
        "  cls1 = Person()\n",
        "  \n",
        "  # use different Python functions to convert it to a string\n",
        "  print(repr(cls1))\n",
        "  print(str(cls1))\n",
        "  print(\"Formated: {0}\".format(cls1))\n",
        "  print(bytes(cls1))\n",
        "  \n",
        "  \n",
        "if __name__==\"__main__\":\n",
        "  main()"
      ],
      "execution_count": 0,
      "outputs": [
        {
          "output_type": "stream",
          "text": [
            "<Preson Class - fname: Joe, lname:Marini, age:25\n",
            "Person (Joe, Marini, is 25)\n",
            "Formated: Person (Joe, Marini, is 25)\n",
            "b'Person:Joe:Marini:25'\n"
          ],
          "name": "stdout"
        }
      ]
    },
    {
      "metadata": {
        "id": "w8Tx3ofwDAlv",
        "colab_type": "text"
      },
      "cell_type": "markdown",
      "source": [
        "### Class Attributes Functions"
      ]
    },
    {
      "metadata": {
        "id": "N7e26EusENSc",
        "colab_type": "code",
        "outputId": "99545a2a-8520-4e7c-db86-a2669c192925",
        "colab": {
          "base_uri": "https://localhost:8080/",
          "height": 119
        }
      },
      "cell_type": "code",
      "source": [
        "# customize string representation of objects\n",
        "\n",
        "class myColor():\n",
        "  def __init__(self):\n",
        "    \n",
        "    self.red = 50\n",
        "    self.green = 75\n",
        "    self.blue = 100\n",
        "    \n",
        "  # use getattr to dynamically return a value\n",
        "  def __getattr__(self, attr):\n",
        "    if attr == \"rgbcolor\":\n",
        "      return (self.red, self.green, self.blue)\n",
        "    elif attr == 'hexcolor':\n",
        "      return \"#{0:02x}{1:02x}{2:02x}\".format(\n",
        "          self.red, self.green, self.blue)\n",
        "    else:\n",
        "      raise AttributeError\n",
        "  \n",
        "  # use setattr to dynamically return a value\n",
        "  def __setattr__(self, attr, val):  \n",
        "    if attr == \"rgbcolor\":\n",
        "      self.red = val[0]\n",
        "      self.green = val[1]\n",
        "      self.blue = val[2]\n",
        "    else:\n",
        "      super().__setattr__(attr, val)\n",
        "\n",
        "    \n",
        "  # use dir to list the available properties\n",
        "  def __dir__(self):\n",
        "    return (\"red\", \"green\", \"blue\" \"rgbcolor\", \"hexcolor\")\n",
        "  \n",
        "  \n",
        "def main():\n",
        "  # create an instance of myColor\n",
        "  cls1 = myColor()\n",
        "  # print thevalue of a computed attribute\n",
        "  print(cls1.rgbcolor)\n",
        "  print(cls1.hexcolor)\n",
        "  \n",
        "  # set the value of a computed attribute\n",
        "  cls1.rgbcolor = (125, 200, 300)\n",
        "  print(cls1.rgbcolor)\n",
        "  print(cls1.hexcolor)\n",
        "  \n",
        "  # access a regular atribute\n",
        "  print('red: ',cls1.red)\n",
        "  \n",
        "  # list the available attributes\n",
        "  print('dir: ', dir(cls1))\n",
        "  \n",
        "  \n",
        "if __name__==\"__main__\":\n",
        "  main()"
      ],
      "execution_count": 0,
      "outputs": [
        {
          "output_type": "stream",
          "text": [
            "(50, 75, 100)\n",
            "#324b64\n",
            "(125, 200, 300)\n",
            "#7dc812c\n",
            "red:  125\n",
            "dir:  ['bluergbcolor', 'green', 'hexcolor', 'red']\n"
          ],
          "name": "stdout"
        }
      ]
    },
    {
      "metadata": {
        "id": "GMZbDbBieAm6",
        "colab_type": "text"
      },
      "cell_type": "markdown",
      "source": [
        "### Class Numerical Operators"
      ]
    },
    {
      "metadata": {
        "id": "0VKoEUwIE6jW",
        "colab_type": "code",
        "outputId": "3c69b530-4782-4ec5-aaf8-9d9a1a36b744",
        "colab": {
          "base_uri": "https://localhost:8080/",
          "height": 85
        }
      },
      "cell_type": "code",
      "source": [
        "class Point():\n",
        "  def __init__(self, x, y):\n",
        "    self.x = x\n",
        "    self.y = y\n",
        "    \n",
        "  def __repr__(self):\n",
        "    return \"<Point x:{0}, y:{1}>\".format(self.x, self.y)\n",
        "  \n",
        "  # implement addition\n",
        "  def __add__(self, other):\n",
        "    return Point(self.x + other.x, self.y + other.y)\n",
        "  \n",
        "  # implement subtraction\n",
        "  def __sub__(self, other):\n",
        "     return Point(self.x - other.x, self.y - other.y)\n",
        " \n",
        "  # implement in-place addition\n",
        "  def __iadd__(self, other):\n",
        "    self.x += other.x\n",
        "    self.y += other.y\n",
        "    return self\n",
        "  \n",
        "  \n",
        "def main():\n",
        "  # declare some points\n",
        "  p1 = Point(10, 20)\n",
        "  p2 = Point(30, 30)\n",
        "  \n",
        "  # add two points\n",
        "  print(p1, p2)\n",
        "  p3 = p1 + p2\n",
        "  print(p3)\n",
        "  \n",
        "  # subtract two points\n",
        "  p4 = p2 - p1\n",
        "  print(p4)\n",
        "  \n",
        "  # perform in-place addition\n",
        "  p1 += p2\n",
        "  print(p1)\n",
        "  \n",
        "if __name__==\"__main__\":\n",
        "  main()"
      ],
      "execution_count": 0,
      "outputs": [
        {
          "output_type": "stream",
          "text": [
            "<Point x:10, y:20> <Point x:30, y:30>\n",
            "<Point x:40, y:50>\n",
            "<Point x:20, y:10>\n",
            "<Point x:40, y:50>\n"
          ],
          "name": "stdout"
        }
      ]
    },
    {
      "metadata": {
        "id": "yKftQlQWEH7T",
        "colab_type": "text"
      },
      "cell_type": "markdown",
      "source": [
        "### Class Comparision Operators\n"
      ]
    },
    {
      "metadata": {
        "id": "Up8qnCJzQWzr",
        "colab_type": "code",
        "outputId": "210a050a-4ba8-46fb-d588-efacd181c19c",
        "colab": {
          "base_uri": "https://localhost:8080/",
          "height": 153
        }
      },
      "cell_type": "code",
      "source": [
        "class Employee():\n",
        "  def __init__(self, fname, lname, level, yrsService):\n",
        "    self.fname = fname\n",
        "    self.lname = lname\n",
        "    self.level = level\n",
        "    self.seniority = yrsService\n",
        "    \n",
        "  # implement comparion fnction by emp level\n",
        "  def __ge__(self, other):\n",
        "    if self.level == other.level:\n",
        "      return self.seniority >= other.seniority\n",
        "    return self.level >= other.level\n",
        "  \n",
        "  def __gt__(self, other):\n",
        "    if self.level == other.level:\n",
        "      return self.seniority > other.seniority\n",
        "    return self.level > other.level\n",
        "  \n",
        "  def __ls__(self, other):\n",
        "    if self.level == other.level:\n",
        "      return self.seniority < other.seniority\n",
        "    return self.level < other.level\n",
        "  \n",
        "  def __le__(self, other):\n",
        "    if self.level == other.level:\n",
        "      return self.seniority <= other.seniority\n",
        "    return self.level <= other.level\n",
        "  \n",
        "  def __eq__(self, other):\n",
        "    return self.level == other.level\n",
        "  \n",
        "def main():\n",
        "  # define some employees\n",
        "  dept = []\n",
        "  dept.append(Employee(\"Tim\", \"Sims\", 5, 9))\n",
        "  dept.append(Employee(\"John\", \"Doe\", 4, 12))\n",
        "  dept.append(Employee(\"Jane\", \"Smith\", 6, 6))\n",
        "  dept.append(Employee(\"Rebecca\", \"Robinson\", 5, 11))\n",
        "  dept.append(Employee(\"Tyler\", \"Durden\", 5, 12))\n",
        "  \n",
        "  # Who's more senior\n",
        "  # is Tim senior than Jane\n",
        "  print(dept[0] > dept[2])\n",
        "  # is Tyle senior than rebecca\n",
        "  print(dept[4] < dept[3])\n",
        "  print()\n",
        "  \n",
        "  # Sort the item\n",
        "  emps = sorted(dept)\n",
        "  for emp in emps:\n",
        "    print(emp.lname)\n",
        "    \n",
        "    \n",
        "if __name__==\"__main__\":\n",
        "  main()"
      ],
      "execution_count": 0,
      "outputs": [
        {
          "output_type": "stream",
          "text": [
            "False\n",
            "False\n",
            "\n",
            "Doe\n",
            "Sims\n",
            "Robinson\n",
            "Durden\n",
            "Smith\n"
          ],
          "name": "stdout"
        }
      ]
    },
    {
      "metadata": {
        "id": "eWlrkBoCKpLP",
        "colab_type": "text"
      },
      "cell_type": "markdown",
      "source": [
        "## Python Logging\n",
        "- Capture and records events while app is running\n",
        "- Useful debugging feature\n",
        "- Events can be categrorized for easier analysis\n",
        "- Provides transaction record of a programs's execution\n",
        "- Hightly customizable output"
      ]
    },
    {
      "metadata": {
        "id": "4pKk9eizQb2E",
        "colab_type": "code",
        "colab": {}
      },
      "cell_type": "code",
      "source": [
        "import logging\n"
      ],
      "execution_count": 0,
      "outputs": []
    },
    {
      "metadata": {
        "id": "zifLTQh-W4KQ",
        "colab_type": "code",
        "outputId": "5e0d789f-4b07-4070-a05c-b1660218d7a6",
        "colab": {
          "base_uri": "https://localhost:8080/",
          "height": 68
        }
      },
      "cell_type": "code",
      "source": [
        "# demonstration of looing api in Python\n",
        "\n",
        "def main():\n",
        "  # use basicConfig to configure logging\n",
        "  \n",
        "  # try out each of the og levels\n",
        "  logging.debug(\"This is a debug message\")\n",
        "  logging.info(\"This is an info message\")\n",
        "  logging.warning(\"This is a warning message\")\n",
        "  logging.error(\"This is an error message\")\n",
        "  logging.critical(\"This is a critical message\")\n",
        "  \n",
        "  # output formatted string to the log\n",
        "  \n",
        "if __name__ == \"__main__\":\n",
        "  main()"
      ],
      "execution_count": 0,
      "outputs": [
        {
          "output_type": "stream",
          "text": [
            "WARNING:root:This is a warning message\n",
            "ERROR:root:This is an error message\n",
            "CRITICAL:root:This is a critical message\n"
          ],
          "name": "stderr"
        }
      ]
    },
    {
      "metadata": {
        "id": "sopmd_ogMJW4",
        "colab_type": "code",
        "outputId": "d21e11f0-023c-40a0-d11e-c90c0d62f0fd",
        "colab": {
          "base_uri": "https://localhost:8080/",
          "height": 68
        }
      },
      "cell_type": "code",
      "source": [
        "# demonstration of looing api in Python\n",
        "\n",
        "def main():\n",
        "  # use basicConfig to configure logging\n",
        "  logging.basicConfig(level=logging.DEBUG,\n",
        "                     filname=\"output.log\",\n",
        "                     filemode=\"W\")\n",
        "  \n",
        "  # try out each of the og levels\n",
        "  logging.debug(\"This is a debug message\")\n",
        "  logging.info(\"This is an info message\")\n",
        "  logging.warning(\"This is a warning message\")\n",
        "  logging.error(\"This is an error message\")\n",
        "  logging.critical(\"This is a critical message\")\n",
        "  \n",
        "  # output formatted string to the log\n",
        "  logging.info(\"Here's a {} variable and int: \".format(\"string\", 10))\n",
        "\n",
        "  \n",
        "if __name__ == \"__main__\":\n",
        "  main()"
      ],
      "execution_count": 0,
      "outputs": [
        {
          "output_type": "stream",
          "text": [
            "WARNING:root:This is a warning message\n",
            "ERROR:root:This is an error message\n",
            "CRITICAL:root:This is a critical message\n"
          ],
          "name": "stderr"
        }
      ]
    },
    {
      "metadata": {
        "id": "xtaZal8eNzZu",
        "colab_type": "text"
      },
      "cell_type": "markdown",
      "source": [
        "### Customied Logging\n",
        "\n",
        "\n",
        "\n",
        "```\n",
        "basicConfig(\n",
        "  format = formatstr,\n",
        "  datefmt = date_format_str\n",
        "  )\n",
        "```\n",
        "\n"
      ]
    },
    {
      "metadata": {
        "id": "awVWK28TMaib",
        "colab_type": "code",
        "outputId": "1b962345-0574-43cc-bff7-70fab7e664d5",
        "colab": {
          "base_uri": "https://localhost:8080/",
          "height": 34
        }
      },
      "cell_type": "code",
      "source": [
        "# customized logging output\n",
        "extData = {\n",
        "    'user': 'joe@exmple.com'\n",
        "}\n",
        "\n",
        "def anotherFunc():\n",
        "  logging.debug(\"This is a debug-level message\", extra=extData)\n",
        "  \n",
        "  \n",
        "def main():\n",
        "  # st the output file and debug level, and\n",
        "  # use a custom formatting sepcification\n",
        "  fmtstr = \"%User:%(user)s %(asctime)s: %(levelname)s: %(funcName)s Line:%(lineno)d % \\\n",
        "  (message)s\"\n",
        "  datestr = \"%m/%d/%Y %I:%M:%S %p\"\n",
        "  logging.basicConfig(filename=\"output.log\",\n",
        "                     level=logging.DEBUG,\n",
        "                     filemode=\"w\",\n",
        "                     format=fmtstr,\n",
        "                     datefmt=datestr)\n",
        "  logging.info(\"this is an infolevel log message\", extra=extData)\n",
        "  logging.warning(\"This is a warning-level message\", extra=extData)\n",
        "  anotherFunc()\n",
        "  \n",
        "  \n",
        "if __name__==\"__main__\":\n",
        "  main()"
      ],
      "execution_count": 0,
      "outputs": [
        {
          "output_type": "stream",
          "text": [
            "WARNING:root:This is a warning-level message\n"
          ],
          "name": "stderr"
        }
      ]
    },
    {
      "metadata": {
        "id": "1uuUb3MnQ5lI",
        "colab_type": "text"
      },
      "cell_type": "markdown",
      "source": [
        "## Python Comprehensions"
      ]
    },
    {
      "metadata": {
        "id": "DTMoxRDtVfs0",
        "colab_type": "text"
      },
      "cell_type": "markdown",
      "source": [
        "### List comprehension"
      ]
    },
    {
      "metadata": {
        "id": "Xn7H8P8_ODld",
        "colab_type": "code",
        "outputId": "781818cf-125e-441a-f076-cbfc1b5f2be1",
        "colab": {
          "base_uri": "https://localhost:8080/",
          "height": 85
        }
      },
      "cell_type": "code",
      "source": [
        "# List comp\n",
        "\n",
        "def main():\n",
        "  evens = [2, 4, 6, 8, 10, 12, 14, 16, 18]\n",
        "  odds = [1, 3, 5, 7, 9, 11, 13, 15, 17, 19]\n",
        "  \n",
        "  # using mapping and filter function on a list\n",
        "  evenSquare = list(map(lambda e: e**2, evens))\n",
        "  print(evenSquare)\n",
        "  \n",
        "  # square num > 4 and < 16 using filter \n",
        "  evenSquare_2 = list(map(lambda e: e**2, \n",
        "                        filter(lambda e: e>4 and e<16, evens)))\n",
        "  print(evenSquare_2)\n",
        "  \n",
        "  # listcomp\n",
        "  evenSquare_l = [e**2 for e in evens]\n",
        "  print(evenSquare_l)\n",
        "  \n",
        "  # filre for 3 < o < 17\n",
        "  oddSquare_l = [o**2 for o in odds if o > 3 and o < 17]\n",
        "  print(oddSquare_l)\n",
        "  \n",
        "  \n",
        "if __name__==\"__main__\":\n",
        "  main()"
      ],
      "execution_count": 0,
      "outputs": [
        {
          "output_type": "stream",
          "text": [
            "[4, 16, 36, 64, 100, 144, 196, 256, 324]\n",
            "[36, 64, 100, 144, 196]\n",
            "[4, 16, 36, 64, 100, 144, 196, 256, 324]\n",
            "[25, 49, 81, 121, 169, 225]\n"
          ],
          "name": "stdout"
        }
      ]
    },
    {
      "metadata": {
        "id": "gGELzYU0TU2R",
        "colab_type": "text"
      },
      "cell_type": "markdown",
      "source": [
        "### Dict Comprehension"
      ]
    },
    {
      "metadata": {
        "id": "lF7WVHNZODy8",
        "colab_type": "code",
        "outputId": "655fa97d-8a22-4b49-d390-99eaf5f28d73",
        "colab": {
          "base_uri": "https://localhost:8080/",
          "height": 88
        }
      },
      "cell_type": "code",
      "source": [
        "def main():\n",
        "  # define a list of temp value\n",
        "  ctemps = [0, 12, 34, 100]\n",
        "  \n",
        "  # use a dict comp\n",
        "  tempDict = {t: (t*9/5) + 32 for t in ctemps if t<100}\n",
        "  print(tempDict)\n",
        "  print(tempDict[12])\n",
        "  \n",
        "  # merge dicts with a comp\n",
        "  team1 = {\"Jones\":24, \"Jameson\": 18, \"Smith\": 58, \"Burns\": 7}\n",
        "  team2 = {\"White\": 12, \"Macke\": 88, \"Perce\": 4}\n",
        "  \n",
        "  newTeam = {k:v for team in (team1, team2) for k,v in team.items()}\n",
        "  print(newTeam)\n",
        "  \n",
        "  \n",
        "if __name__==\"__main__\":\n",
        "  main()"
      ],
      "execution_count": 0,
      "outputs": [
        {
          "output_type": "stream",
          "text": [
            "{0: 32.0, 12: 53.6, 34: 93.2}\n",
            "53.6\n",
            "{'Jones': 24, 'Jameson': 18, 'Smith': 58, 'Burns': 7, 'White': 12, 'Macke': 88, 'Perce': 4}\n"
          ],
          "name": "stdout"
        }
      ]
    },
    {
      "metadata": {
        "id": "w82anIaHVdHd",
        "colab_type": "text"
      },
      "cell_type": "markdown",
      "source": [
        "### Set Comprehension"
      ]
    },
    {
      "metadata": {
        "id": "u3EB53nMNJze",
        "colab_type": "code",
        "outputId": "7ffe07fb-20a4-4364-a9a2-6dc9f15f3d5e",
        "colab": {
          "base_uri": "https://localhost:8080/",
          "height": 88
        }
      },
      "cell_type": "code",
      "source": [
        "# set comp\n",
        "# remove duplicates\n",
        "\n",
        "def main():\n",
        "  ctemps = [5, 10, 12, 14, 10, 23, 41, 30, 12, 24, 12, 18, 29]\n",
        "  ftemps1 = [(t*9/5 +32) for t in ctemps ]\n",
        "  ftemps2 = {(t*9/5 +32) for t in ctemps}\n",
        "  print(ftemps1)\n",
        "  print(ftemps2)\n",
        "  \n",
        "  # build a set from an input source\n",
        "  sTemp = \"The quick brown fox jumped over the lazy dog\"\n",
        "  chars = {c.upper() for c in sTemp if not c.isspace()}\n",
        "  print(chars)\n",
        "  \n",
        "if __name__==\"__main__\":\n",
        "  main()"
      ],
      "execution_count": 0,
      "outputs": [
        {
          "output_type": "stream",
          "text": [
            "[41.0, 50.0, 53.6, 57.2, 50.0, 73.4, 105.8, 86.0, 53.6, 75.2, 53.6, 64.4, 84.2]\n",
            "{64.4, 73.4, 41.0, 105.8, 75.2, 50.0, 84.2, 53.6, 86.0, 57.2}\n",
            "{'N', 'T', 'R', 'Q', 'J', 'U', 'H', 'W', 'C', 'P', 'Z', 'V', 'M', 'A', 'B', 'K', 'D', 'X', 'O', 'Y', 'L', 'G', 'F', 'I', 'E'}\n"
          ],
          "name": "stdout"
        }
      ]
    },
    {
      "metadata": {
        "id": "D4boyhFxWUNn",
        "colab_type": "code",
        "colab": {}
      },
      "cell_type": "code",
      "source": [
        ""
      ],
      "execution_count": 0,
      "outputs": []
    }
  ]
}