{
  "nbformat": 4,
  "nbformat_minor": 0,
  "metadata": {
    "colab": {
      "name": "The_Best_Time_ to_Party.ipynb",
      "version": "0.3.2",
      "provenance": [],
      "collapsed_sections": [],
      "include_colab_link": true
    },
    "kernelspec": {
      "name": "python3",
      "display_name": "Python 3"
    }
  },
  "cells": [
    {
      "cell_type": "markdown",
      "metadata": {
        "id": "view-in-github",
        "colab_type": "text"
      },
      "source": [
        "[View in Colaboratory](https://colab.research.google.com/github/agerk/algorithm_dataStructure/blob/master/The_Best_Time__to_Party.ipynb)"
      ]
    },
    {
      "metadata": {
        "id": "ip8USjIXU-Ge",
        "colab_type": "text"
      },
      "cell_type": "markdown",
      "source": [
        "## How to pick the best time to party?\n",
        "\n",
        "- Choose the hour such that the number of celebrity is max-- optimizing the number celebrity to meet \n",
        "- Celebrity come at a specific time, but would leave party any time, i.e., [arrival time, departure time) of a celebrity. Full discription of the problem is [here](https://ocw.mit.edu/courses/electrical-engineering-and-computer-science/6-s095-programming-for-the-puzzled-january-iap-2018/puzzle-2-the-best-time-to-party/MIT6_S095IAP18_Puzzle_2.pdf)"
      ]
    },
    {
      "metadata": {
        "id": "HV9hLVx0JzzM",
        "colab_type": "code",
        "colab": {
          "base_uri": "https://localhost:8080/",
          "height": 34
        },
        "outputId": "b295aea0-4ad7-484a-f234-79c5a99b2b56"
      },
      "cell_type": "code",
      "source": [
        "# arival time of celebrity as a tuple\n",
        "schedule = [(6, 8), (6, 12), (6, 7), (7, 8), (7, 10), (8, 9), (8, 10), (9, 12),\n",
        "            (9, 10), (10, 11), (10, 12), (11, 12)]\n",
        "\n",
        "schedule2 = [(6.0, 8.0), (6.5, 12.0), (6.5, 7.0), (7.0, 8.0), (7.5, 10.0), (8.0, 9.0),\n",
        "          (8.0, 10.0), (9.0, 12.0), (9.5, 10.0), (10.0, 11.0), (10.0, 12.0), (11.0, 12.0)]\n",
        "\n",
        "def bestTimeToParty_brute(schedule):\n",
        "  \"\"\" The best time to pary and maximize meeting celebrities\n",
        "  \n",
        "  Args: Given a list of intervals when celebrities will be at the party\n",
        "        \n",
        "  \n",
        "  Returns: Output is the time that you want to go the party \n",
        "          when the maximum number of\n",
        "  \"\"\"\n",
        "  # initialize star and end time of the party\n",
        "  start_time = schedule[0][0]\n",
        "  end_time = schedule[0][1]\n",
        "  \n",
        "  # loop through schedule get actuall star and end time of the party\n",
        "  for t in schedule:\n",
        "    start_time = min(t[0],start_time)\n",
        "    end_time = max(t[1],end_time)\n",
        "#   print(start_time, end_time)\n",
        "\n",
        "  # count celebrity at each time\n",
        "  # define helper function to count celebs \n",
        "  count = celebrityDensity(schedule, start_time, end_time)    \n",
        "#   print(count)\n",
        "  max_count = 0\n",
        "  # range over times to find the time when the maximum celeb is around\n",
        "  for i in range(start_time, end_time + 1):\n",
        "    if count[i] > max_count:\n",
        "      max_count = count[i]\n",
        "      time = i\n",
        "  \n",
        "  # Output the best time to party\n",
        "  print('Best time to attend the party is at', time, \\\n",
        "       'o\\'clock', ':', max_count, 'celebrities will be attending!')\n",
        "      \n",
        "def celebrityDensity(schedule, start, end):\n",
        "  # initialize a list of length end + 1 to all 0's\n",
        "  count = [0] * (end+1)\n",
        "  # i ranges over different time\n",
        "  for i in range(start, end+1):\n",
        "    count[i] = 0\n",
        "    for c in schedule:\n",
        "      # check if celeb c is around at time i\n",
        "      if c[0] <= i and c[1] > i:\n",
        "        count[i] +=1\n",
        "            \n",
        "  return count\n",
        "\n",
        "bestTimeToParty_brute(schedule)  "
      ],
      "execution_count": 16,
      "outputs": [
        {
          "output_type": "stream",
          "text": [
            "Best time to attend the party is at 9 o'clock : 5 celebrities will be attending!\n"
          ],
          "name": "stdout"
        }
      ]
    },
    {
      "metadata": {
        "id": "DajZlkajs9jm",
        "colab_type": "text"
      },
      "cell_type": "markdown",
      "source": [
        "## How to optimize the code?\n",
        "  - instead of looping through all arrival and departure time, sorting in ascending order will be more efficient"
      ]
    },
    {
      "metadata": {
        "id": "Z0DpHJ-aVFUw",
        "colab_type": "code",
        "colab": {
          "base_uri": "https://localhost:8080/",
          "height": 105
        },
        "outputId": "0100541d-e367-4d35-8857-410599c3721f"
      },
      "cell_type": "code",
      "source": [
        "schedule = [(6, 8), (6, 12), (6, 7), (7, 8), (7, 10), (8, 9), (8, 10), (9, 12),\n",
        "            (9, 10), (10, 11), (10, 12), (11, 12)]\n",
        "\n",
        "schedule2 = [(6.0, 8.0), (6.5, 12.0), (6.5, 7.0), (7.0, 8.0), (7.5, 10.0), (8.0, 9.0),\n",
        "          (8.0, 10.0), (9.0, 12.0), (9.5, 10.0), (10.0, 11.0), (10.0, 12.0), (11.0, 12.0)]\n",
        "\n",
        "\n",
        "def bestTimeToPartyOpt(schedule):\n",
        "  \"\"\" Convert schedule to list of start and end time. It will work with fractional time\n",
        "  \n",
        "  \"\"\"\n",
        "  \n",
        "  times = []\n",
        "  for c in schedule:\n",
        "    times.append((c[0], 'start'))\n",
        "    times.append((c[1], 'end'))\n",
        "  \n",
        "  print('Time before sorting: ', times)\n",
        "  # Sort the list of times.\n",
        "  # Each time is a start or end time of celeb sighting\n",
        "  sortList(times)    # call helper function\n",
        "  print(\"\\nTime after sorting: \", times)\n",
        "  \n",
        "  max_count, time = chooseTime(times)\n",
        "  \n",
        "  # Output best time to party\n",
        "  print('Best time to attend the party is at', time, \\\n",
        "       'o\\'clock', ':', max_count, 'celebrities will be attending!')\n",
        "\n",
        "# Sort the element of time list in ascending order\n",
        "# Sorting is done based on the value of the first item of the element tuple\n",
        "def sortList(tlist):\n",
        "  for index in range(len(tlist)-1):\n",
        "    is_small = index\n",
        "    for i in range(index, len(tlist)):\n",
        "      # Sort bsed on first item od tuple\n",
        "      if tlist[is_small][0] > tlist[i][0]:\n",
        "        is_small = i\n",
        "    # Swap the position of the element at index and is_smal indices\n",
        "    tlist[index], tlist[is_small] = tlist[is_small], tlist[index]\n",
        "  \n",
        "  return \n",
        "\n",
        "def chooseTime(times):\n",
        "  \"\"\"\n",
        "  Returns: index of time\n",
        "  \"\"\"\n",
        "  rcount = 0\n",
        "  maxcount = 0\n",
        "  time = 0\n",
        "  \n",
        "  # Range through the times computing a runnning count of celebrities\n",
        "  for t in times:\n",
        "    if t[1] == 'start':\n",
        "      rcount = rcount + 1\n",
        "    elif t[1] == 'end':\n",
        "      rcount = rcount - 1\n",
        "    if rcount > maxcount:\n",
        "      maxcount = rcount\n",
        "      time = t[0]\n",
        "  return maxcount, time\n",
        "\n",
        "bestTimeToPartyOpt(schedule2)\n"
      ],
      "execution_count": 38,
      "outputs": [
        {
          "output_type": "stream",
          "text": [
            "Time before sorting:  [(6.0, 'start'), (8.0, 'end'), (6.5, 'start'), (12.0, 'end'), (6.5, 'start'), (7.0, 'end'), (7.0, 'start'), (8.0, 'end'), (7.5, 'start'), (10.0, 'end'), (8.0, 'start'), (9.0, 'end'), (8.0, 'start'), (10.0, 'end'), (9.0, 'start'), (12.0, 'end'), (9.5, 'start'), (10.0, 'end'), (10.0, 'start'), (11.0, 'end'), (10.0, 'start'), (12.0, 'end'), (11.0, 'start'), (12.0, 'end')]\n",
            "\n",
            "Time after sorting:  [(6.0, 'start'), (6.5, 'start'), (6.5, 'start'), (7.0, 'end'), (7.0, 'start'), (7.5, 'start'), (8.0, 'end'), (8.0, 'end'), (8.0, 'start'), (8.0, 'start'), (9.0, 'end'), (9.0, 'start'), (9.5, 'start'), (10.0, 'end'), (10.0, 'end'), (10.0, 'end'), (10.0, 'start'), (10.0, 'start'), (11.0, 'end'), (11.0, 'start'), (12.0, 'end'), (12.0, 'end'), (12.0, 'end'), (12.0, 'end')]\n",
            "Best time to attend the party is at 9.5 o'clock : 5 celebrities will be attending!\n"
          ],
          "name": "stdout"
        }
      ]
    },
    {
      "metadata": {
        "id": "C74fVLgg7CGp",
        "colab_type": "text"
      },
      "cell_type": "markdown",
      "source": [
        "Exercise 1: Suppose you are yourself a busy celebrity and don’t have complete freedom in choosing when you can go to the party. Add arguments to the procedure `bestTimePartyOpt` and modify it so it determines the maximum number of celebrities you can see within a give time range between `ystart` and `yend`. As with celebrities the interval is [`ystart`, `yend`) so you are available at all times `t` such that `ystart <= t < yend`"
      ]
    },
    {
      "metadata": {
        "id": "t_8h_hy77DG0",
        "colab_type": "code",
        "colab": {
          "base_uri": "https://localhost:8080/",
          "height": 71
        },
        "outputId": "5b77449c-7b8d-49ca-bc86-19228c7eff93"
      },
      "cell_type": "code",
      "source": [
        "schedule = [(6, 8), (6, 12), (6, 7), (7, 8), (7, 10), (8, 9), (8, 10), (9, 12),\n",
        "            (9, 10), (10, 11), (10, 12), (11, 12)]\n",
        "\n",
        "schedule2 = [(6.0, 8.0), (6.5, 12.0), (6.5, 7.0), (7.0, 8.0), (7.5, 10.0), (8.0, 9.0),\n",
        "          (8.0, 10.0), (9.0, 12.0), (9.5, 10.0), (10.0, 11.0), (10.0, 12.0), (11.0, 12.0)]\n",
        "\n",
        "\n",
        "def bestTimeToPartyOpt_2(schedule, ystart, yend):\n",
        "  \"\"\" Convert schedule to list of start and end time. It will work with fractional time\n",
        "  \n",
        "  \"\"\"\n",
        "  \n",
        "  times = []\n",
        "  for c in schedule:\n",
        "    times.append((c[0], 'start'))\n",
        "    times.append((c[1], 'end'))\n",
        "  \n",
        "  print('Time before sorting: ', times)\n",
        "  # Sort the list of times.\n",
        "  # Each time is a start or end time of celeb sighting\n",
        "  sortList(times)    # call helper function\n",
        "#   print(\"\\nTime after sorting: \", times)\n",
        "  \n",
        "  max_count, time = chooseTimeConstrained(times, ystart, yend)\n",
        "  \n",
        "  # Output best time to party\n",
        "  print('Best time to attend the party is at', time, \\\n",
        "       'o\\'clock', ':', max_count, 'celebrities will be attending!')\n",
        "\n",
        "# Sort the element of time list in ascending order\n",
        "# Sorting is done based on the value of the first item of the element tuple\n",
        "def sortList(tlist):\n",
        "  for index in range(len(tlist)-1):\n",
        "    is_small = index\n",
        "    for i in range(index, len(tlist)):\n",
        "      # Sort bsed on first item od tuple\n",
        "      if tlist[is_small][0] > tlist[i][0]:\n",
        "        is_small = i\n",
        "    # Swap the position of the element at index and is_smal indices\n",
        "    tlist[index], tlist[is_small] = tlist[is_small], tlist[index]\n",
        "  \n",
        "  return \n",
        "\n",
        "def chooseTimeConstrained(times, ystart, yend):\n",
        "  \"\"\"\n",
        "  Returns: index of time\n",
        "  \"\"\"\n",
        "  rcount = 0\n",
        "  maxcount = 0\n",
        "  time = 0\n",
        "  \n",
        "  # Range through the times computing a runnning count of celebrities\n",
        "  for t in times:\n",
        "    if t[1] == 'start':\n",
        "      rcount = rcount + 1\n",
        "    elif t[1] == 'end':\n",
        "      rcount = rcount - 1\n",
        "    # Make sure that you are availabl during this time t[0]\n",
        "    if rcount > maxcount and t[0] >= ystart and t[0] < yend:\n",
        "      maxcount = rcount\n",
        "      time = t[0]\n",
        "  return maxcount, time\n",
        "\n",
        "bestTimeToPartyOpt_2(schedule2, 7.0, 9.0)\n"
      ],
      "execution_count": 5,
      "outputs": [
        {
          "output_type": "stream",
          "text": [
            "Time before sorting:  [(6.0, 'start'), (8.0, 'end'), (6.5, 'start'), (12.0, 'end'), (6.5, 'start'), (7.0, 'end'), (7.0, 'start'), (8.0, 'end'), (7.5, 'start'), (10.0, 'end'), (8.0, 'start'), (9.0, 'end'), (8.0, 'start'), (10.0, 'end'), (9.0, 'start'), (12.0, 'end'), (9.5, 'start'), (10.0, 'end'), (10.0, 'start'), (11.0, 'end'), (10.0, 'start'), (12.0, 'end'), (11.0, 'start'), (12.0, 'end')]\n",
            "Best time to attend the party is at 7.5 o'clock : 4 celebrities will be attending!\n"
          ],
          "name": "stdout"
        }
      ]
    },
    {
      "metadata": {
        "id": "ulopRVIpXwe2",
        "colab_type": "code",
        "colab": {}
      },
      "cell_type": "code",
      "source": [
        ""
      ],
      "execution_count": 0,
      "outputs": []
    },
    {
      "metadata": {
        "id": "kuDdtQyAYY2v",
        "colab_type": "text"
      },
      "cell_type": "markdown",
      "source": [
        "This tutorial is based on MIT Open course `Programming for the Puzzeled` [here](https://ocw.mit.edu/courses/electrical-engineering-and-computer-science/6-s095-programming-for-the-puzzled-january-iap-2018/puzzle-2-the-best-time-to-party/)"
      ]
    },
    {
      "metadata": {
        "id": "7bjvgcSdYnAA",
        "colab_type": "code",
        "colab": {}
      },
      "cell_type": "code",
      "source": [
        ""
      ],
      "execution_count": 0,
      "outputs": []
    }
  ]
}