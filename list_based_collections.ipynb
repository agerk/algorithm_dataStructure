{
  "nbformat": 4,
  "nbformat_minor": 0,
  "metadata": {
    "colab": {
      "name": "list_based_collections.ipynb",
      "version": "0.3.2",
      "provenance": [],
      "collapsed_sections": [],
      "include_colab_link": true
    },
    "kernelspec": {
      "name": "python3",
      "display_name": "Python 3"
    }
  },
  "cells": [
    {
      "cell_type": "markdown",
      "metadata": {
        "id": "view-in-github",
        "colab_type": "text"
      },
      "source": [
        "[View in Colaboratory](https://colab.research.google.com/github/agerk/algorithm_dataStructure/blob/master/list_based_collections.ipynb)"
      ]
    },
    {
      "metadata": {
        "id": "URslmkag3MTn",
        "colab_type": "text"
      },
      "cell_type": "markdown",
      "source": [
        "### Creating linked list in python using the concept of a pointer\n",
        "\n"
      ]
    },
    {
      "metadata": {
        "id": "mSLTeh1u3Bl2",
        "colab_type": "code",
        "colab": {}
      },
      "cell_type": "code",
      "source": [
        "class Element(object):\n",
        "  def __init__(self, value):\n",
        "    \"\"\" Function initialize element value and link.\n",
        "    # Argument: value object\n",
        "    \n",
        "    # Returns: value and pointer to the next linked element\n",
        "    \"\"\"\n",
        "    self.value = value\n",
        "    self.next = None\n",
        "  \n",
        "class LinkedList(object):\n",
        "  \"\"\" Create linked object\"\"\"\n",
        "  def __init__(self, head = None):\n",
        "    \"\"\" Function to initialize value to the first element\"\"\"\n",
        "    \n",
        "    self.head = head\n",
        "    \n",
        "  def append(self, new_element):\n",
        "    \"\"\" Add new element to a linked list\n",
        "    \n",
        "    # Argument: number or string value\n",
        "    \n",
        "    #Returns: None\n",
        "    \"\"\"\n",
        "    current = self.head\n",
        "    if self.head:\n",
        "      while current.next:\n",
        "        current = current.next\n",
        "      current.next = new_element\n",
        "    else:\n",
        "      self.head = new_element\n",
        "    \n",
        "  def get_position(self, position):\n",
        "    \"\"\"Get an element from a particular position.\n",
        "        Assume the first position is \"1\".\n",
        "        Return \"None\" if position is not in the list..\n",
        "    \n",
        "    # Argument: element position\n",
        "    \n",
        "    # Return: indices of element    \n",
        "    \"\"\"\n",
        "    counter = 1\n",
        "    current = self.head\n",
        "    if position < 1:\n",
        "      return None\n",
        "    \n",
        "    while current and counter <= position:\n",
        "      if counter == position:\n",
        "        return current\n",
        "      current = current.next\n",
        "      counter += 1\n",
        "    return None \n",
        "    \n",
        "  def insert(self, new_element, position):\n",
        "    \"\"\"Insert a new node at the given position.\n",
        "    Assume the first position is \"1\".\n",
        "    Inserting at position 3 means between\n",
        "    the 2nd and 3rd elements.\n",
        "      \n",
        "    # Arguments: new element to add and its position\n",
        "       \n",
        "    # Returns: None\n",
        "    \"\"\"\n",
        "    counter = 1\n",
        "    current = self.head\n",
        "    if position > 1:\n",
        "      while current and counter < position:\n",
        "        if counter  ==  position - 1:\n",
        "          new_element.next = current.next\n",
        "          current.next = new_element\n",
        "        current = current.next\n",
        "        counter += 1\n",
        "    elif position == 1:\n",
        "      new_element.next = self.head\n",
        "      self.head = new_element\n",
        "      \n",
        "  def delete(self, value):\n",
        "    \"\"\"Delete the first node with a given value.\n",
        "        \n",
        "    \"\"\"\n",
        "    current = self.head\n",
        "    previous = None\n",
        "    while current.value != value and current.next:\n",
        "      previous = current\n",
        "      current = current.next\n",
        "    if current.value == value:\n",
        "      if previous:\n",
        "        previous.next = current.next\n",
        "      else:\n",
        "        self.head = current.next\n",
        "           \n",
        "  \n",
        "    \n",
        "      "
      ],
      "execution_count": 0,
      "outputs": []
    },
    {
      "metadata": {
        "id": "lFDJ-vO63Ztp",
        "colab_type": "code",
        "colab": {
          "base_uri": "https://localhost:8080/",
          "height": 102
        },
        "outputId": "411f8de9-0a88-4007-f5ba-488817968142"
      },
      "cell_type": "code",
      "source": [
        "# Test cases\n",
        "# Set up some Elements\n",
        "e1 = Element(1)\n",
        "e2 = Element(2)\n",
        "e3 = Element(3)\n",
        "e4 = Element(4)\n",
        "\n",
        "# Start setting up a LinkedList\n",
        "ll = LinkedList(e1)\n",
        "ll.append(e2)\n",
        "ll.append(e3)\n",
        "\n",
        "# Test get_position\n",
        "# Should print 3\n",
        "# print(ll.head.next.next.value)\n",
        "# Should also print 3\n",
        "print(ll.get_position(3).value == 3)\n",
        "\n",
        "# Test insert\n",
        "ll.insert(e4,3)\n",
        "# Should print 4 now\n",
        "print(ll.get_position(3).value == 4)\n",
        "\n",
        "# Test delete\n",
        "ll.delete(1)\n",
        "# Should print 2 now\n",
        "print(ll.get_position(1).value == 2)\n",
        "# Should print 4 now\n",
        "print(ll.get_position(2).value == 4)\n",
        "# Should print 3 now\n",
        "print(ll.get_position(3).value == 3)"
      ],
      "execution_count": 26,
      "outputs": [
        {
          "output_type": "stream",
          "text": [
            "True\n",
            "True\n",
            "True\n",
            "True\n",
            "True\n"
          ],
          "name": "stdout"
        }
      ]
    },
    {
      "metadata": {
        "id": "CIKvOkVjZPMQ",
        "colab_type": "text"
      },
      "cell_type": "markdown",
      "source": [
        "### Stack\n",
        "\n",
        "  - its an abstract data type append (push ) and remove(pop) at the beginning "
      ]
    },
    {
      "metadata": {
        "id": "tayvKyRpGpa9",
        "colab_type": "code",
        "colab": {}
      },
      "cell_type": "code",
      "source": [
        "\"\"\" Add a delet_first and insert_first method in the LinkedList class, \n",
        "and use them to implement a Stack.\n",
        "\n",
        "\"\"\"\n",
        "\n",
        "class Element_2(object):\n",
        "  def __init__(self, value):\n",
        "    self.value = value\n",
        "    self.next = None\n",
        "     \n",
        "class LinkedList_2(object):\n",
        "  def __init__(self, head=None):\n",
        "    self.head = head\n",
        "  \n",
        "  def append(self, new_element):\n",
        "    current = self.head\n",
        "    if self.head:\n",
        "      while current.next:\n",
        "        current = current.next\n",
        "        current.next = new_element\n",
        "    else:\n",
        "      self.head = new_element\n",
        "  \n",
        "  def insert_first(self, new_element):\n",
        "    \"\"\"Insert new element as the head of the LinkedList\"\"\"\n",
        "    new_element.next = self.head\n",
        "    self.head = new_element\n",
        "    \n",
        "  def delete_first(self):\n",
        "    \"\"\"Delete the first (head) element in the LinkedList as its return\"\"\"\n",
        "    if self.head:\n",
        "      deleted_element = self.head\n",
        "      temp = deleted_element.next\n",
        "      self.head = temp\n",
        "      return deleted_element\n",
        "    else:\n",
        "      return None  \n",
        "\n",
        "class Stack(object):\n",
        "  def __init__(self,top=None):\n",
        "    self.ll = LinkedList_2(top)\n",
        "    \n",
        "  def push(self, new_element):\n",
        "    \"\"\" Push(add) new element on top os a singly linked link\"\"\"\n",
        "    self.ll.insert_first(new_element)\n",
        "    \n",
        "  def pop(self):\n",
        "    \"\"\"Pop (remove) the first element off from the top of the stack\"\"\"\n",
        "    return self.ll.delete_first()\n"
      ],
      "execution_count": 0,
      "outputs": []
    },
    {
      "metadata": {
        "id": "Ggh3ckwMGPL4",
        "colab_type": "code",
        "colab": {
          "base_uri": "https://localhost:8080/",
          "height": 102
        },
        "outputId": "06dac9b8-d1cf-498f-f73c-0f05c08030e4"
      },
      "cell_type": "code",
      "source": [
        "# Test cases\n",
        "# Set up some Elements\n",
        "e1 = Element_2(1)\n",
        "e2 = Element_2(2)\n",
        "e3 = Element_2(3)\n",
        "e4 = Element_2(4)\n",
        "\n",
        "# Start setting up a Stack\n",
        "stack = Stack(e1)\n",
        "\n",
        "# Test stack functionality\n",
        "stack.push(e2)\n",
        "stack.push(e3)\n",
        "\n",
        "print(stack.pop().value)\n",
        "print(stack.pop().value)\n",
        "print(stack.pop().value)\n",
        "print(stack.pop())\n",
        "\n",
        "stack.push(e4)\n",
        "print(stack.pop().value)"
      ],
      "execution_count": 4,
      "outputs": [
        {
          "output_type": "stream",
          "text": [
            "3\n",
            "2\n",
            "1\n",
            "None\n",
            "4\n"
          ],
          "name": "stdout"
        }
      ]
    },
    {
      "metadata": {
        "id": "krKn24Rpg-gV",
        "colab_type": "text"
      },
      "cell_type": "markdown",
      "source": [
        "### Queue"
      ]
    },
    {
      "metadata": {
        "id": "0lprn5paDBkn",
        "colab_type": "code",
        "colab": {}
      },
      "cell_type": "code",
      "source": [
        "\"\"\"Make a Queue class using a list\"\"\"\n",
        "\n",
        "class Queue(object):\n",
        "  def __init__(self, head=None):\n",
        "    self.storage = [head]\n",
        "  \n",
        "  def enqueue(self, new_element):\n",
        "    self.storage.append(new_element)\n",
        " \n",
        "  def peek(self):\n",
        "    return self.storage[0]\n",
        "  \n",
        "  def dequeue(self):\n",
        "    return self.storage.pop(0)"
      ],
      "execution_count": 0,
      "outputs": []
    },
    {
      "metadata": {
        "id": "-UyPNEfCg9Qc",
        "colab_type": "code",
        "colab": {
          "base_uri": "https://localhost:8080/",
          "height": 119
        },
        "outputId": "784b1f3b-8373-4701-f85b-4fdd4fc28595"
      },
      "cell_type": "code",
      "source": [
        "# Setup\n",
        "q = Queue(1)\n",
        "q.enqueue(2)\n",
        "q.enqueue(3)\n",
        "\n",
        "# Test peek\n",
        "# Should be 1\n",
        "print(q.peek()==1)\n",
        "\n",
        "# Test dequeue\n",
        "# Should be 1\n",
        "print(q.dequeue()==1)\n",
        "\n",
        "# Test enqueue\n",
        "q.enqueue(4)\n",
        "# Should be 2\n",
        "print(q.dequeue()==2)\n",
        "# Should be 3\n",
        "print(q.dequeue()==3)\n",
        "# Should be 4\n",
        "print(q.dequeue()==4)\n",
        "q.enqueue(5)\n",
        "# Should be 5\n",
        "print(q.peek()==5)"
      ],
      "execution_count": 72,
      "outputs": [
        {
          "output_type": "stream",
          "text": [
            "True\n",
            "True\n",
            "True\n",
            "True\n",
            "True\n",
            "True\n"
          ],
          "name": "stdout"
        }
      ]
    },
    {
      "metadata": {
        "id": "Y83Ieag5lIzL",
        "colab_type": "code",
        "colab": {}
      },
      "cell_type": "code",
      "source": [
        ""
      ],
      "execution_count": 0,
      "outputs": []
    }
  ]
}