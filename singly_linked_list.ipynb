{
  "nbformat": 4,
  "nbformat_minor": 0,
  "metadata": {
    "colab": {
      "name": "singly_linked_list.ipynb",
      "version": "0.3.2",
      "provenance": [],
      "collapsed_sections": [],
      "include_colab_link": true
    },
    "kernelspec": {
      "name": "python3",
      "display_name": "Python 3"
    }
  },
  "cells": [
    {
      "cell_type": "markdown",
      "metadata": {
        "id": "view-in-github",
        "colab_type": "text"
      },
      "source": [
        "[View in Colaboratory](https://colab.research.google.com/github/agerk/algorithm_dataStructure/blob/master/singly_linked_list.ipynb)"
      ]
    },
    {
      "metadata": {
        "id": "URslmkag3MTn",
        "colab_type": "text"
      },
      "cell_type": "markdown",
      "source": [
        "### Creating linked list in python using the concept of a pointer\n",
        "\n"
      ]
    },
    {
      "metadata": {
        "id": "mSLTeh1u3Bl2",
        "colab_type": "code",
        "colab": {}
      },
      "cell_type": "code",
      "source": [
        "class Element(object):\n",
        "  def __init__(self, value):\n",
        "    \"\"\" Function initialize element value and link.\n",
        "    # Argument: value object\n",
        "    \n",
        "    # Returns: value and pointer to the next linked element\n",
        "    \"\"\"\n",
        "    self.value = value\n",
        "    self.next = None\n",
        "  \n",
        "class LinkedList(object):\n",
        "  \"\"\" Create linked object\"\"\"\n",
        "  def __init__(self, head = None):\n",
        "    \"\"\" Function to initialize value to the first element\"\"\"\n",
        "    \n",
        "    self.head = head\n",
        "    \n",
        "  def append(self, new_element):\n",
        "    \"\"\" Add new element to a linked list\n",
        "    \n",
        "    # Argument: number or string value\n",
        "    \n",
        "    #Returns: None\n",
        "    \"\"\"\n",
        "    current = self.head\n",
        "    if self.head:\n",
        "      while current.next:\n",
        "        current = current.next\n",
        "      current.next = new_element\n",
        "    else:\n",
        "      self.head = new_element\n",
        "    \n",
        "  def get_position(self, position):\n",
        "    \"\"\"Get an element from a particular position.\n",
        "        Assume the first position is \"1\".\n",
        "        Return \"None\" if position is not in the list..\n",
        "    \n",
        "    # Argument: element position\n",
        "    \n",
        "    # Return: indices of element    \n",
        "    \"\"\"\n",
        "    counter = 1\n",
        "    current = self.head\n",
        "    if position < 1:\n",
        "      return None\n",
        "    \n",
        "    while current and counter <= position:\n",
        "      if counter == position:\n",
        "        return current\n",
        "      current = current.next\n",
        "      counter += 1\n",
        "    return None \n",
        "    \n",
        "  def insert(self, new_element, position):\n",
        "    \"\"\"Insert a new node at the given position.\n",
        "    Assume the first position is \"1\".\n",
        "    Inserting at position 3 means between\n",
        "    the 2nd and 3rd elements.\n",
        "      \n",
        "    # Arguments: new element to add and its position\n",
        "       \n",
        "    # Returns: None\n",
        "    \"\"\"\n",
        "    counter = 1\n",
        "    current = self.head\n",
        "    if position > 1:\n",
        "      while current and counter < position:\n",
        "        if counter  ==  position - 1:\n",
        "          new_element.next = current.next\n",
        "          current.next = new_element\n",
        "        current = current.next\n",
        "        counter += 1\n",
        "    elif position == 1:\n",
        "      new_element.next = self.head\n",
        "      self.head = new_element\n",
        "      \n",
        "  def delete(self, value):\n",
        "    \"\"\"Delete the first node with a given value.\n",
        "    \n",
        "    \n",
        "    \"\"\"\n",
        "    current = self.head\n",
        "    previous = None\n",
        "    while current.value != value and current.next:\n",
        "      previous = current\n",
        "      current = current.next\n",
        "    if current.value == value:\n",
        "      if previous:\n",
        "        previous.next = current.next\n",
        "      else:\n",
        "        self.head = current.next\n",
        "      "
      ],
      "execution_count": 0,
      "outputs": []
    },
    {
      "metadata": {
        "id": "lFDJ-vO63Ztp",
        "colab_type": "code",
        "colab": {
          "base_uri": "https://localhost:8080/",
          "height": 102
        },
        "outputId": "22e987f2-6634-4541-e1d9-fd9d0d66d97c"
      },
      "cell_type": "code",
      "source": [
        "# Test cases\n",
        "# Set up some Elements\n",
        "e1 = Element(1)\n",
        "e2 = Element(2)\n",
        "e3 = Element(3)\n",
        "e4 = Element(4)\n",
        "\n",
        "# Start setting up a LinkedList\n",
        "ll = LinkedList(e1)\n",
        "ll.append(e2)\n",
        "ll.append(e3)\n",
        "\n",
        "# Test get_position\n",
        "# Should print 3\n",
        "# print(ll.head.next.next.value)\n",
        "# Should also print 3\n",
        "print(ll.get_position(3).value == 3)\n",
        "\n",
        "# Test insert\n",
        "ll.insert(e4,3)\n",
        "# Should print 4 now\n",
        "print(ll.get_position(3).value == 4)\n",
        "\n",
        "# Test delete\n",
        "ll.delete(1)\n",
        "# Should print 2 now\n",
        "print(ll.get_position(1).value == 2)\n",
        "# Should print 4 now\n",
        "print(ll.get_position(2).value == 4)\n",
        "# Should print 3 now\n",
        "print(ll.get_position(3).value == 3)"
      ],
      "execution_count": 24,
      "outputs": [
        {
          "output_type": "stream",
          "text": [
            "True\n",
            "True\n",
            "True\n",
            "True\n",
            "True\n"
          ],
          "name": "stdout"
        }
      ]
    },
    {
      "metadata": {
        "id": "Ggh3ckwMGPL4",
        "colab_type": "code",
        "colab": {
          "base_uri": "https://localhost:8080/",
          "height": 164
        },
        "outputId": "83f0ac8f-9f34-46fb-9136-5b8e5b56d608"
      },
      "cell_type": "code",
      "source": [
        ""
      ],
      "execution_count": 15,
      "outputs": [
        {
          "output_type": "error",
          "ename": "NameError",
          "evalue": "ignored",
          "traceback": [
            "\u001b[0;31m---------------------------------------------------------------------------\u001b[0m",
            "\u001b[0;31mNameError\u001b[0m                                 Traceback (most recent call last)",
            "\u001b[0;32m<ipython-input-15-6cf485bc2797>\u001b[0m in \u001b[0;36m<module>\u001b[0;34m()\u001b[0m\n\u001b[0;32m----> 1\u001b[0;31m \u001b[0ml1\u001b[0m\u001b[0;34m\u001b[0m\u001b[0m\n\u001b[0m",
            "\u001b[0;31mNameError\u001b[0m: name 'l1' is not defined"
          ]
        }
      ]
    },
    {
      "metadata": {
        "id": "tayvKyRpGpa9",
        "colab_type": "code",
        "colab": {}
      },
      "cell_type": "code",
      "source": [
        ""
      ],
      "execution_count": 0,
      "outputs": []
    }
  ]
}