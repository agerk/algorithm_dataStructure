{
  "nbformat": 4,
  "nbformat_minor": 0,
  "metadata": {
    "colab": {
      "name": "yow_will_all_confirm_mit.ipynb",
      "version": "0.3.2",
      "provenance": [],
      "collapsed_sections": [],
      "include_colab_link": true
    },
    "kernelspec": {
      "name": "python3",
      "display_name": "Python 3"
    }
  },
  "cells": [
    {
      "cell_type": "markdown",
      "metadata": {
        "id": "view-in-github",
        "colab_type": "text"
      },
      "source": [
        "[View in Colaboratory](https://colab.research.google.com/github/agerk/algorithm_dataStructure/blob/master/yow_will_all_confirm_mit.ipynb)"
      ]
    },
    {
      "metadata": {
        "id": "8jRjXrmXIfrb",
        "colab_type": "text"
      },
      "cell_type": "markdown",
      "source": [
        "## Programming for the Puzzled: MIT "
      ]
    },
    {
      "metadata": {
        "id": "fgCFEuGrIuV8",
        "colab_type": "text"
      },
      "cell_type": "markdown",
      "source": [
        "Question: what is the least set of commands, algorithmically, to flip baseball caps. The full discription of the problem is [here](https://ocw.mit.edu/courses/electrical-engineering-and-computer-science/6-s095-programming-for-the-puzzled-january-iap-2018/puzzle-1-you-will-all-conform/MIT6_S095IAP18_Puzzle_1.pdf)\n"
      ]
    },
    {
      "metadata": {
        "id": "yNryISF_IddA",
        "colab_type": "code",
        "colab": {
          "base_uri": "https://localhost:8080/",
          "height": 68
        },
        "outputId": "c8a02397-1846-43b3-8a97-32f06da6e078"
      },
      "cell_type": "code",
      "source": [
        "\n",
        "caps = ['F', 'F', 'B', 'B', 'B', 'F', 'B',\n",
        "       'B', 'B', 'F', 'F', 'B','F']\n",
        "caps2 = ['F', 'F', 'B', 'B', 'B', 'F', 'B',\n",
        "       'B', 'B', 'F', 'F', 'F','F']\n",
        "\n",
        "def pleaseConform(caps):\n",
        "    \"\"\"programming for the Puzzeled: fewest commands are the goal\n",
        "    \n",
        "    Args: a vector of F's and B's, interms of forwards and backwards caps\n",
        "    Returns: fewest commands goals\n",
        "    \"\"\"\n",
        "    # initialization\n",
        "    start = 0\n",
        "    forward = 0\n",
        "    backward, forward = 0,0\n",
        "    intervals = []\n",
        "    \n",
        "    # determine intervals where caps are on in the same direction\n",
        "    for i in range(1, len(caps)):\n",
        "        if caps[start] != caps[i]:\n",
        "            # each interval is a tuple with 3 elements (start, end, type)\n",
        "            intervals.append((start, i-1, caps[start]))\n",
        "            \n",
        "            if caps[start] == 'F':\n",
        "                forward += 1\n",
        "            else:\n",
        "                backward += 1\n",
        "            start = i\n",
        "    # add the last interval after for loop completes execution\n",
        "    intervals.append((start, len(caps)-1, caps[start]))\n",
        "    if caps[start] == 'F':\n",
        "        forward += 1\n",
        "    else:\n",
        "        backward += 1\n",
        "        \n",
        "    # now interval is ready, compare count and flip\n",
        "    if forward < backward:\n",
        "        flip = 'F'\n",
        "    else:\n",
        "        flip = 'B'\n",
        "    for t in intervals:\n",
        "        if t[2] == flip:\n",
        "            print('People in position', t[0], 'through', t[1], 'flip your caps!')\n",
        "    \n",
        "    \n",
        "pleaseConform(caps)            \n",
        "    "
      ],
      "execution_count": 1,
      "outputs": [
        {
          "output_type": "stream",
          "text": [
            "People in position 2 through 4 flip your caps!\n",
            "People in position 6 through 8 flip your caps!\n",
            "People in position 11 through 11 flip your caps!\n"
          ],
          "name": "stdout"
        }
      ]
    },
    {
      "metadata": {
        "id": "xfI33D6VI5We",
        "colab_type": "text"
      },
      "cell_type": "markdown",
      "source": [
        "### How to modify the second interval?\n",
        "\n",
        "Iteration 1:  pre-process the `caps` initialization will reduce the code from 26 to 22"
      ]
    },
    {
      "metadata": {
        "id": "Gxa7f9_7IqnN",
        "colab_type": "code",
        "colab": {
          "base_uri": "https://localhost:8080/",
          "height": 68
        },
        "outputId": "2effabc6-0496-4d87-9237-37ba4572b9f6"
      },
      "cell_type": "code",
      "source": [
        "def pleaseConformOpt(caps):\n",
        "    \"\"\"programming for the Puzzeled: fewest commands are the goal\n",
        "    \n",
        "    Args: a vector of F's and B's, interms of forwards and backwards caps\n",
        "    Returns: fewest commands goals\n",
        "    \"\"\"\n",
        "    # initialization\n",
        "    start = 0\n",
        "    forward = 0\n",
        "    backward, forward = 0,0\n",
        "    intervals = []\n",
        "    \n",
        "    # new addition\n",
        "    caps = caps + ['END']    # explicit ending point\n",
        "    # determine intervals where caps are on in the same direction\n",
        "    for i in range(1, len(caps)):\n",
        "        if caps[start] != caps[i]:\n",
        "            # each interval is a tuple with 3 elements (start, end, type)\n",
        "            intervals.append((start, i-1, caps[start]))\n",
        "            \n",
        "            if caps[start] == 'F':\n",
        "                forward += 1\n",
        "            else:\n",
        "                backward += 1\n",
        "            start = i\n",
        "#     # add the last interval after for loop completes execution\n",
        "#     intervals.append((start, len(caps)-1, caps[start]))\n",
        "#     if caps[start] == 'F':\n",
        "#         forward += 1\n",
        "#     else:\n",
        "#         backward += 1\n",
        "        \n",
        "    # now interval is ready, compare count and flip\n",
        "    if forward < backward:\n",
        "        flip = 'F'\n",
        "    else:\n",
        "        flip = 'B'\n",
        "    for t in intervals:\n",
        "        if t[2] == flip:\n",
        "            print('People in position', t[0], 'through', t[1], 'flip your caps!')\n",
        "    \n",
        "    \n",
        "pleaseConformOpt(caps)            \n",
        "    "
      ],
      "execution_count": 2,
      "outputs": [
        {
          "output_type": "stream",
          "text": [
            "People in position 2 through 4 flip your caps!\n",
            "People in position 6 through 8 flip your caps!\n",
            "People in position 11 through 11 flip your caps!\n"
          ],
          "name": "stdout"
        }
      ]
    },
    {
      "metadata": {
        "id": "qAEdveQmI_72",
        "colab_type": "text"
      },
      "cell_type": "markdown",
      "source": [
        "Iteration 2: One pass algorithm, compact form"
      ]
    },
    {
      "metadata": {
        "id": "BwuiCq2VI58m",
        "colab_type": "code",
        "colab": {
          "base_uri": "https://localhost:8080/",
          "height": 68
        },
        "outputId": "a4e1829c-ab07-4525-a538-18b5905eecb2"
      },
      "cell_type": "code",
      "source": [
        "def pleaseConformOnePass(caps):\n",
        "    caps = caps + [caps[0]]   # add an elemnt since we will skip it any way\n",
        "    for i in range(1, len(caps)):\n",
        "        if caps[i] != caps[i-1]:    # \n",
        "            if caps[i] != caps[0]:\n",
        "                print('People in position', i, end='')\n",
        "            else:\n",
        "                print(' through', i-1, 'flip your caps!')\n",
        "pleaseConformOnePass(caps)                     "
      ],
      "execution_count": 3,
      "outputs": [
        {
          "output_type": "stream",
          "text": [
            "People in position 2 through 4 flip your caps!\n",
            "People in position 6 through 8 flip your caps!\n",
            "People in position 11 through 11 flip your caps!\n"
          ],
          "name": "stdout"
        }
      ]
    },
    {
      "metadata": {
        "id": "-_PtBy0TJAhR",
        "colab_type": "code",
        "colab": {}
      },
      "cell_type": "code",
      "source": [
        ""
      ],
      "execution_count": 0,
      "outputs": []
    }
  ]
}